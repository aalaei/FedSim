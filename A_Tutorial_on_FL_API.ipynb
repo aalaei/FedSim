{
 "cells": [
  {
   "cell_type": "markdown",
   "metadata": {
    "id": "AftvNA5VMemJ"
   },
   "source": [
    "# Federated Learning exmple Using Keras\n",
    "in this tutorial we are going to study FL API of tensorflow."
   ]
  },
  {
   "cell_type": "markdown",
   "metadata": {
    "id": "MnUwFbCAKB2r"
   },
   "source": [
    "## Needed libraries\n",
    "\n",
    "we should install some developing libs as it's not available on master branch(21 December 2020)"
   ]
  },
  {
   "cell_type": "code",
   "execution_count": 1,
   "metadata": {
    "id": "ZrGitA_KnRO0"
   },
   "outputs": [
    {
     "name": "stderr",
     "output_type": "stream",
     "text": [
      "WARNING: Skipping tb-nightly as it is not installed.\n"
     ]
    },
    {
     "name": "stdout",
     "output_type": "stream",
     "text": [
      "Requirement already satisfied: tensorboard in d:\\users\\ali\\anaconda3\\envs\\fed_gpu\\lib\\site-packages (2.4.1)\n",
      "Requirement already satisfied: wheel>=0.26 in d:\\users\\ali\\anaconda3\\envs\\fed_gpu\\lib\\site-packages (from tensorboard) (0.36.2)\n",
      "Requirement already satisfied: requests<3,>=2.21.0 in d:\\users\\ali\\anaconda3\\envs\\fed_gpu\\lib\\site-packages (from tensorboard) (2.25.1)\n",
      "Requirement already satisfied: six>=1.10.0 in d:\\users\\ali\\anaconda3\\envs\\fed_gpu\\lib\\site-packages (from tensorboard) (1.15.0)\n",
      "Requirement already satisfied: google-auth-oauthlib<0.5,>=0.4.1 in d:\\users\\ali\\anaconda3\\envs\\fed_gpu\\lib\\site-packages (from tensorboard) (0.4.2)\n",
      "Requirement already satisfied: werkzeug>=0.11.15 in d:\\users\\ali\\anaconda3\\envs\\fed_gpu\\lib\\site-packages (from tensorboard) (1.0.1)\n",
      "Requirement already satisfied: tensorboard-plugin-wit>=1.6.0 in d:\\users\\ali\\anaconda3\\envs\\fed_gpu\\lib\\site-packages (from tensorboard) (1.6.0)\n",
      "Requirement already satisfied: protobuf>=3.6.0 in d:\\users\\ali\\anaconda3\\envs\\fed_gpu\\lib\\site-packages (from tensorboard) (3.14.0)\n",
      "Requirement already satisfied: grpcio>=1.24.3 in d:\\users\\ali\\anaconda3\\envs\\fed_gpu\\lib\\site-packages (from tensorboard) (1.29.0)\n",
      "Requirement already satisfied: absl-py>=0.4 in d:\\users\\ali\\anaconda3\\envs\\fed_gpu\\lib\\site-packages (from tensorboard) (0.9.0)\n",
      "Requirement already satisfied: markdown>=2.6.8 in d:\\users\\ali\\anaconda3\\envs\\fed_gpu\\lib\\site-packages (from tensorboard) (3.3.3)\n",
      "Requirement already satisfied: google-auth<2,>=1.6.3 in d:\\users\\ali\\anaconda3\\envs\\fed_gpu\\lib\\site-packages (from tensorboard) (1.27.0)\n",
      "Requirement already satisfied: setuptools>=41.0.0 in d:\\users\\ali\\anaconda3\\envs\\fed_gpu\\lib\\site-packages (from tensorboard) (52.0.0.post20210125)\n",
      "Requirement already satisfied: numpy>=1.12.0 in d:\\users\\ali\\anaconda3\\envs\\fed_gpu\\lib\\site-packages (from tensorboard) (1.18.5)\n",
      "Requirement already satisfied: cachetools<5.0,>=2.0.0 in d:\\users\\ali\\anaconda3\\envs\\fed_gpu\\lib\\site-packages (from google-auth<2,>=1.6.3->tensorboard) (3.1.1)\n",
      "Requirement already satisfied: pyasn1-modules>=0.2.1 in d:\\users\\ali\\anaconda3\\envs\\fed_gpu\\lib\\site-packages (from google-auth<2,>=1.6.3->tensorboard) (0.2.8)\n",
      "Requirement already satisfied: rsa<5,>=3.1.4 in d:\\users\\ali\\anaconda3\\envs\\fed_gpu\\lib\\site-packages (from google-auth<2,>=1.6.3->tensorboard) (4.7)\n",
      "Requirement already satisfied: requests-oauthlib>=0.7.0 in d:\\users\\ali\\anaconda3\\envs\\fed_gpu\\lib\\site-packages (from google-auth-oauthlib<0.5,>=0.4.1->tensorboard) (1.3.0)\n",
      "Requirement already satisfied: pyasn1<0.5.0,>=0.4.6 in d:\\users\\ali\\anaconda3\\envs\\fed_gpu\\lib\\site-packages (from pyasn1-modules>=0.2.1->google-auth<2,>=1.6.3->tensorboard) (0.4.8)\n",
      "Requirement already satisfied: certifi>=2017.4.17 in d:\\users\\ali\\anaconda3\\envs\\fed_gpu\\lib\\site-packages (from requests<3,>=2.21.0->tensorboard) (2020.12.5)\n",
      "Requirement already satisfied: idna<3,>=2.5 in d:\\users\\ali\\anaconda3\\envs\\fed_gpu\\lib\\site-packages (from requests<3,>=2.21.0->tensorboard) (2.10)\n",
      "Requirement already satisfied: chardet<5,>=3.0.2 in d:\\users\\ali\\anaconda3\\envs\\fed_gpu\\lib\\site-packages (from requests<3,>=2.21.0->tensorboard) (3.0.4)\n",
      "Requirement already satisfied: urllib3<1.27,>=1.21.1 in d:\\users\\ali\\anaconda3\\envs\\fed_gpu\\lib\\site-packages (from requests<3,>=2.21.0->tensorboard) (1.26.3)\n",
      "Requirement already satisfied: oauthlib>=3.0.0 in d:\\users\\ali\\anaconda3\\envs\\fed_gpu\\lib\\site-packages (from requests-oauthlib>=0.7.0->google-auth-oauthlib<0.5,>=0.4.1->tensorboard) (3.1.0)\n",
      "Requirement already satisfied: nest_asyncio in d:\\users\\ali\\anaconda3\\envs\\fed_gpu\\lib\\site-packages (1.5.1)\n"
     ]
    }
   ],
   "source": [
    "import sys\n",
    "from platform import uname\n",
    "import os\n",
    "\n",
    "\n",
    "if \"google.colab\" in sys.modules:\n",
    "    \n",
    "    # can causes a duplicate tensorboard install, leading to errors.\n",
    "    !pip uninstall --yes tensorboard tb-nightly\n",
    "    !pip install  --upgrade tensorflow_federated_nightly\n",
    "    !pip install  tb-nightly  # or tensorboard, but not both\n",
    "else:\n",
    "    !pip uninstall --yes tb-nightly\n",
    "    !pip install tensorboard\n",
    "    \n",
    "!pip install  --upgrade nest_asyncio\n",
    "\n",
    "\n",
    "%load_ext tensorboard\n"
   ]
  },
  {
   "cell_type": "code",
   "execution_count": 2,
   "metadata": {
    "id": "hRCo_29GhI3p"
   },
   "outputs": [],
   "source": [
    "if (uname())[0] !='Windows':\n",
    "    !apt install texlive-fonts-recommended texlive-fonts-extra cm-super dvipng"
   ]
  },
  {
   "cell_type": "markdown",
   "metadata": {},
   "source": [
    "![Diagram](tff5.svg)"
   ]
  },
  {
   "cell_type": "markdown",
   "metadata": {
    "id": "zRxML01RCGF1"
   },
   "source": [
    "Before we start implementing an example let's survey tensorflow FL API\n",
    "\n",
    "## Overview\n",
    "we are going to study interfaces that facilitate federated learning tasks, such as federated training or evaluation with existing machine learning models implemented in TensorFlow.\n",
    "\n",
    "The interfaces offered by this API consist of the following three key parts:\n",
    "* **Models.** Classes and helper functions that allow you to wrap your existing models for use with TFF. Wrapping a model can be as simple as calling a single wrapping function (e.g., `tff.learning.from_keras_model`, or defining a subclass of the tff.learning.Model interface for full customizability.\n",
    "    - It means you don't have to make new model for FL, you may just simply use `tff.learning.from_keras_model` to convert keras model into tff.learning.Model\n",
    "    \n",
    "    \n",
    "* **Federated Computation Builders.** Helper functions that construct federated computations for training or evaluation, using your existing models.\n",
    "    - This functions will be needed in order to simulate Avraging process on All the system(including FL server and devices)\n",
    "    \n",
    "    \n",
    "* **Datasets.** Canned collections of data that you can download and access in Python for use in simulating federated learning scenarios. Although federated learning is designed for use with decentralized data that cannot be simply downloaded at a centralized location, at the research and development stages it is often convenient to conduct initial experiments using data that can be downloaded and manipulated locally, especially for developers who might be new to the approach.\n"
   ]
  },
  {
   "cell_type": "markdown",
   "metadata": {
    "id": "CbVnR8qOCGF3"
   },
   "source": [
    "\n",
    "In our system we have two aggregations:\n",
    "\n",
    "1. **Local aggregation.** This level of aggregation refers to aggregation across multiple batches of examples owned by an individual client. It applies to both the model parameters (variables), which continue to sequentially evolve as the model is locally trained, as well as the statistics you compute (such as average loss, accuracy, and other metrics), which your model will again update locally as it iterates over each individual client's local data stream.\n",
    "\n",
    " Performing aggregation at this level is the responsibility of your model code, and is accomplished using standard TensorFlow constructs.\n",
    "\n",
    " The general structure of processing is as follows:\n",
    "\n",
    " * The model first constructs tf.Variables to hold aggregates, such as the number of batches or the number of examples processed, the sum of per-batch or per-example losses, etc.\n",
    "\n",
    " * TFF invokes the forward_pass method on your Model multiple times, sequentially over subsequent batches of client data, which allows you to update the variables holding various aggregates as a side effect.\n",
    "\n",
    " * Finally, TFF invokes the report_local_outputs method on your Model to allow your model to compile all the summary statistics it collected into a compact set of metrics to be exported by the client. This is where your model code may, for example, divide the sum of losses by the number of examples processed to export the average loss, etc.\n",
    "\n",
    "2. **Federated aggregation.** This level of aggregation refers to aggregation across multiple clients (devices) in the system. Again, it applies to both the model parameters (variables), which are being averaged across clients, as well as the metrics your model exported as a result of local aggregation.\n",
    "\n",
    " Performing aggregation at this level is the responsibility of TFF. As a model creator, however, you can control this process (more on this below).\n",
    "\n",
    " The general structure of processing is as follows:\n",
    "\n",
    "  * The initial model, and any parameters required for training, are distributed by a server to a subset of clients that will participate in a round of training or evaluation.\n",
    "\n",
    "  * On each client, independently and in parallel, your model code is invoked repeatedly on a stream of local data batches to produce a new set of model parameters (when training), and a new set of local metrics, as described above (this is local aggregation).\n",
    "\n",
    "  * TFF runs a distributed aggregation protocol to accumulate and aggregate the model parameters and locally exported metrics across the system. This logic is expressed in a declarative manner using TFF's own federated computation language (not in TensorFlow), in the Model's federated_output_computation."
   ]
  },
  {
   "cell_type": "markdown",
   "metadata": {
    "id": "70wTs3kfCGF4"
   },
   "source": [
    "## Abstract interfaces\n",
    "This basic constructor + metadata interface is represented by the interface `tff.learning.Model`, as follows:\n",
    "\n",
    "* The constructor, `forward_pass`, and `report_local_outputs` methods should construct model variables, forward pass, and statistics you wish to report, correspondingly. The TensorFlow constructed by those methods must be serializable.\n",
    "\n",
    "* The `input_spec` property, as well as the 3 properties that return subsets of your trainable, non-trainable, and local variables represent the metadata. TFF uses this information to determine how to connect parts of your model to the federated optimization algorithms, and to define internal type signatures to assist in verifying the correctness of the constructed system (so that your model cannot be instantiated over data that does not match what the model is designed to consume).\n",
    "\n",
    "In addition, the abstract interface `tff.learning.Model` exposes a property `federated_output_computation` that, together with the `report_local_outputs` property mentioned earlier, allows you to control the process of aggregating summary statistics."
   ]
  },
  {
   "cell_type": "markdown",
   "metadata": {
    "id": "MHuquagECGF4"
   },
   "source": [
    "## Converters for Keras\n",
    "Nearly all the information that's required by TFF can be derived by calling `tf.keras` interfaces, so if you have a Keras model, you can rely on tff.learning.from_keras_model to construct a tff.learning.Model.\n",
    "**Note:** TFF still wants you to provide a **constructor** \\[not a instance of model\\] - a no-argument model function such as the following:\n",
    "```python\n",
    "def model_fn():\n",
    "keras_model = ...\n",
    "return tff.learning.from_keras_model(keras_model, sample_batch, loss=...)\n",
    "```\n",
    "In addition to the model itself, you supply a sample batch of data which TFF uses to determine the type and shape of your model's input. This ensures that TFF can properly instantiate the model for the data that will actually be present on client devices (since we assume this data is not generally available at the time you are constructing the TensorFlow to be serialized)."
   ]
  },
  {
   "cell_type": "markdown",
   "metadata": {
    "id": "cKuQ8595CGF5"
   },
   "source": [
    "## Federated Computation Builders\n",
    "The `tff.learning` package provides several builders for `tff.Computations` that perform learning-related tasks; we expect the set of such computations to expand in the future.\n",
    "\n",
    "## Architectural assumptions\n",
    "### Execution\n",
    "There are two distinct phases in running a federated computation.\n",
    "* **Compile**: TFF first compiles federated learning algorithms into an abstract serialized representation of the entire distributed computation. This is when TensorFlow serialization happens, but other transformations can occur to support more efficient execution. We refer to the serialized representation emitted by the compiler as a federated computation.\n",
    "\n",
    "\n",
    "* **Execute**: TFF provides ways to execute these computations. For now, execution is only supported via a local simulation (e.g., in a notebook using simulated decentralized data)."
   ]
  },
  {
   "cell_type": "markdown",
   "metadata": {
    "id": "ZOwmP9MfCGF6"
   },
   "source": [
    "In the tutorials, you will invoke those federated computations as if they were regular Python functions, to be executed locally. However, TFF is designed to express federated computations in a manner agnostic to most aspects of the execution environment, so that they can potentially be deployable to, e.g., groups of devices running `Android`, or to clusters in a datacenter. Again, the main consequence of this are strong assumptions about serialization. In particular, when you invoke one of the `build_...` methods described below the computation is fully serialized."
   ]
  },
  {
   "cell_type": "markdown",
   "metadata": {
    "id": "HHzMOe14CGF7"
   },
   "source": [
    "## Modeling state\n",
    "Since TFF is functional, stateful processes are modeled in TFF as computations that accept the current state as an input and then provide the updated state as an output. In order to fully define a stateful process, one also needs to specify where the initial state comes from (otherwise we cannot bootstrap the process). This is captured in the definition of the helper class `tff.templates.IterativeProcess`, with the 2 properties initialize and next corresponding to the `initialization` and `iteration`, respectively."
   ]
  },
  {
   "cell_type": "markdown",
   "metadata": {
    "id": "hHVKvE9ACGF7"
   },
   "source": [
    "## Builders\n",
    "At the moment(21 December 2020), TFF provides two builder functions that generate the federated computations for federated training and evaluation:\n",
    "\n",
    "* `tff.learning.build_federated_averaging_process` takes a model **function** and a client optimizer \\[and optional server optimizer which may not be necessarily the same as client optimizer\\] and returns a stateful tff.templates.IterativeProcess.\n",
    "\n",
    "* `tff.learning.build_federated_evaluation` takes a model **function** and returns a single federated computation for federated evaluation of models, since evaluation is not stateful."
   ]
  },
  {
   "cell_type": "markdown",
   "metadata": {
    "id": "NMgaDtHKCGF8"
   },
   "source": [
    "## Datasets\n",
    "#### Client selection\n",
    "In the typical federated learning scenario, we have a large population of potentially hundreds of millions of client devices, of which only a small portion may be active and available for training at any given moment (for example, this may be limited to clients that are plugged in to a power source, not on a metered network, and otherwise idle). Generally, the set of clients available to participate in training or evaluation is outside of the developer's control. Furthermore, as it's impractical to coordinate millions of clients, a typical round of training or evaluation will include only a fraction of the available clients, which may be sampled at random.\n",
    "The tff.simulation.datasets package provides a variety of datasets that are split into \"clients\", where each client corresponds to a dataset on a particular device that might participate in federated learning.\n",
    "\n",
    "These datasets provide realistic non-IID data distributions that replicate in simulation the challenges of training on real decentralized data. Some of the pre-processing of this data was done using tools from the Leaf project.\n",
    "``` python\n",
    "train_data, test_data = tff.simulation.datasets.example.load_data()\n",
    "```\n",
    "we can access clients by using `train_data.client_id`. and `train_data.create_tf_dataset_for client(cl_id)` to access all dataset available on the specified client.\n",
    "\n",
    "**Note:** In the typical federated learning scenario, we can **not** access any client or their local data, though here we use client id in order to simplify our similation and our tutorial. In real world we cannot acess neither clients \\[ as they must be anonymous\\] nor their data!"
   ]
  },
  {
   "cell_type": "markdown",
   "metadata": {
    "id": "2-TI3FGaCGF9"
   },
   "source": [
    "## Putting things together\n",
    "In order to simulate a realistic deployment of your federated learning code, you will generally write a training loop that looks like this:\n",
    "```python\n",
    "trainer = tff.learning.build_federated_averaging_process(\n",
    "     model_fn,client_optimizer_fn,\n",
    "     server_optimizer_fn)\n",
    "state = trainer.initialize()\n",
    "fed_data_train,_ = tff.simulation.datasets.example.load_data()\n",
    "\n",
    "#samples n clients from all and outputs thier preprocessed data\n",
    "def sample_clients(federated_data, n):\n",
    "  return preprocessed_dataset_of_users\n",
    "\n",
    "while True:\n",
    "  data_for_this_round = sample(fed_data_train,num_of_clients)\n",
    "  state, metrics = trainer.next(state, data_for_this_round)\n",
    "\n",
    "```"
   ]
  },
  {
   "cell_type": "markdown",
   "metadata": {
    "id": "vQUrWyS7CGF9"
   },
   "source": [
    "# Let's move on to our example code.\n",
    "Here we will make an image classiffier which is trinaed usinf FL.(model is a very simple 2-layer feed forward NN)"
   ]
  },
  {
   "cell_type": "code",
   "execution_count": 3,
   "metadata": {
    "id": "8BKyHkMxKHfV"
   },
   "outputs": [
    {
     "data": {
      "text/plain": [
       "b'Hello, World!'"
      ]
     },
     "execution_count": 3,
     "metadata": {},
     "output_type": "execute_result"
    }
   ],
   "source": [
    "import nest_asyncio\n",
    "nest_asyncio.apply()\n",
    "\n",
    "import collections\n",
    "\n",
    "import numpy as np\n",
    "import tensorflow as tf\n",
    "import tensorflow_federated as tff\n",
    "import datetime\n",
    "#np.random.seed(0)\n",
    "\n",
    "tff.federated_computation(lambda: 'Hello, World!')()"
   ]
  },
  {
   "cell_type": "markdown",
   "metadata": {
    "id": "5Cyy2AWbLMKj"
   },
   "source": [
    "## Preparing the input data\n",
    "\n",
    "Let's start with the data. Federated learning requires a federated data set,\n",
    "i.e., a collection of data from multiple users. Federated data is typically\n",
    "non-[i.i.d.](https://en.wikipedia.org/wiki/Independent_and_identically_distributed_random_variables),\n",
    "which poses a unique set of challenges.\n",
    "\n",
    "In order to facilitate experimentation, we seeded the TFF repository with a few\n",
    "datasets, including a federated version of MNIST that contains a version of the [original NIST dataset](https://www.nist.gov/srd/nist-special-database-19) that has been re-processed using [Leaf](https://github.com/TalwalkarLab/leaf) so that the data is keyed by the original writer of the digits. Since each writer has a unique style, this dataset exhibits the kind of non-i.i.d. behavior expected of federated datasets.\n",
    "\n",
    "Here's how we can load it."
   ]
  },
  {
   "cell_type": "code",
   "execution_count": 4,
   "metadata": {
    "id": "NayDhCX6SjwE"
   },
   "outputs": [],
   "source": [
    "emnist_train, emnist_test = tff.simulation.datasets.emnist.load_data()"
   ]
  },
  {
   "cell_type": "markdown",
   "metadata": {
    "id": "yeX8BKgPfeFw"
   },
   "source": [
    "The data sets returned by `load_data()` are instances of\n",
    "`tff.simulation.ClientData`, an interface that allows you to **enumerate the set\n",
    "of users**, to construct a `tf.data.Dataset` that represents the data of a\n",
    "particular user, and to query the structure of individual elements. Here's how\n",
    "you can use this interface to explore the content of the data set. Keep in mind\n",
    "that while this interface allows you to iterate over clients ids, this is only a\n",
    "feature of the simulation data. As you will see shortly, **client identities are\n",
    "not used by the federated learning framework - their only purpose is to allow\n",
    "you to select subsets of the data for simulations**."
   ]
  },
  {
   "cell_type": "code",
   "execution_count": 5,
   "metadata": {
    "id": "kN4-U5nJgKig"
   },
   "outputs": [
    {
     "name": "stdout",
     "output_type": "stream",
     "text": [
      "Total number of Nodes is 3383.\n"
     ]
    }
   ],
   "source": [
    "print(\"Total number of Nodes is {}.\".format(len(emnist_train.client_ids)))"
   ]
  },
  {
   "cell_type": "code",
   "execution_count": 102,
   "metadata": {},
   "outputs": [
    {
     "name": "stdout",
     "output_type": "stream",
     "text": [
      "341873\n"
     ]
    }
   ],
   "source": [
    "im_cnt=0\n",
    "for i in range(len(emnist_train.client_ids)):\n",
    "    dataset_user_i = emnist_train.create_tf_dataset_for_client(\n",
    "        emnist_train.client_ids[i])\n",
    "    im_cnt+=len(dataset_user_i)\n",
    "print(\"Total number of images:{}\".format(im_cnt))"
   ]
  },
  {
   "cell_type": "code",
   "execution_count": 6,
   "metadata": {
    "id": "ZyCzIrSegT62"
   },
   "outputs": [
    {
     "data": {
      "text/plain": [
       "OrderedDict([('label', TensorSpec(shape=(), dtype=tf.int32, name=None)),\n",
       "             ('pixels',\n",
       "              TensorSpec(shape=(28, 28), dtype=tf.float32, name=None))])"
      ]
     },
     "execution_count": 6,
     "metadata": {},
     "output_type": "execute_result"
    }
   ],
   "source": [
    "emnist_train.element_type_structure"
   ]
  },
  {
   "cell_type": "code",
   "execution_count": 7,
   "metadata": {},
   "outputs": [
    {
     "data": {
      "text/plain": [
       "<tensorflow_federated.python.simulation.hdf5_client_data.HDF5ClientData at 0x2d74f782040>"
      ]
     },
     "execution_count": 7,
     "metadata": {},
     "output_type": "execute_result"
    }
   ],
   "source": [
    "emnist_train"
   ]
  },
  {
   "cell_type": "code",
   "execution_count": 95,
   "metadata": {},
   "outputs": [
    {
     "data": {
      "text/plain": [
       "93"
      ]
     },
     "execution_count": 95,
     "metadata": {},
     "output_type": "execute_result"
    }
   ],
   "source": [
    "len(dataset_user_0)"
   ]
  },
  {
   "cell_type": "code",
   "execution_count": 8,
   "metadata": {
    "id": "EsvSXGEMgd9G"
   },
   "outputs": [
    {
     "data": {
      "text/plain": [
       "5"
      ]
     },
     "execution_count": 8,
     "metadata": {},
     "output_type": "execute_result"
    }
   ],
   "source": [
    "dataset_user_0 = emnist_train.create_tf_dataset_for_client(\n",
    "    emnist_train.client_ids[0])\n",
    "\n",
    "example_element = next(iter(dataset_user_0))\n",
    "\n",
    "example_element['label'].numpy()"
   ]
  },
  {
   "cell_type": "code",
   "execution_count": 9,
   "metadata": {
    "id": "OmLV0nfMg98V"
   },
   "outputs": [
    {
     "data": {
      "image/png": "[encoded data removed]",
      "text/plain": [
       "<Figure size 432x288 with 1 Axes>"
      ]
     },
     "metadata": {
      "needs_background": "light"
     },
     "output_type": "display_data"
    }
   ],
   "source": [
    "from matplotlib import pyplot as plt\n",
    "plt.imshow(example_element['pixels'].numpy(), cmap='gray', aspect='equal')\n",
    "plt.grid(False)\n",
    "_ = plt.show()"
   ]
  },
  {
   "cell_type": "markdown",
   "metadata": {
    "id": "zV9ZEN9jCGGB"
   },
   "source": [
    "# iterating over 5 first data for user number0"
   ]
  },
  {
   "cell_type": "code",
   "execution_count": 10,
   "metadata": {
    "id": "Ag7KrSgiCGGB"
   },
   "outputs": [
    {
     "data": {
      "image/png": "[encoded data removed]",
      "text/plain": [
       "<Figure size 720x144 with 5 Axes>"
      ]
     },
     "metadata": {},
     "output_type": "display_data"
    }
   ],
   "source": [
    "figure = plt.figure(figsize=(10, 2))\n",
    "for i,x in enumerate(dataset_user_0.take(5)):\n",
    "    \n",
    "    plt.subplot(1,5,i+1)\n",
    "    plt.imshow(x['pixels'].numpy(), cmap='gray', aspect='equal')\n",
    "    plt.title(x['label'].numpy())\n",
    "    plt.grid(False)\n",
    "    plt.xticks([])\n",
    "    plt.yticks([])\n",
    "    #_ = plt.show()"
   ]
  },
  {
   "cell_type": "markdown",
   "metadata": {
    "id": "GGnxdUp8Cj5h"
   },
   "source": [
    "### Exploring heterogeneity in federated data\n",
    "\n",
    "Federated data is typically non-[i.i.d.](https://en.wikipedia.org/wiki/Independent_and_identically_distributed_random_variables), users typically have different distributions of data depending on usage patterns. Some clients may have fewer training examples on device, suffering from data paucity locally, while some clients will have more than enough training examples. Let's explore this concept of data heterogeneity typical of a federated system with the EMNIST data we have available. It's important to note that this deep analysis of a client's data is only available to us because this is a simulation environment where all the data is available to us locally. In a real production federated environment you would not be able to inspect a single client's data."
   ]
  },
  {
   "cell_type": "markdown",
   "metadata": {
    "id": "77mx33vXFrqd"
   },
   "source": [
    "First, let's grab a sampling of one client's data to get a feel for the examples on one simulated device. Because the dataset we're using has been keyed by unique writer, the data of one client represents the handwriting of one person for a sample of the digits 0 through 9, simulating the unique \"usage pattern\" of one user."
   ]
  },
  {
   "cell_type": "code",
   "execution_count": 11,
   "metadata": {
    "id": "PfRva0fsFfSX"
   },
   "outputs": [
    {
     "data": {
      "image/png": "[encoded data removed]",
      "text/plain": [
       "<Figure size 1440x288 with 40 Axes>"
      ]
     },
     "metadata": {
      "needs_background": "light"
     },
     "output_type": "display_data"
    }
   ],
   "source": [
    "## Example MNIST digits for one client\n",
    "figure = plt.figure(figsize=(20, 4))\n",
    "j = 0\n",
    "\n",
    "for example in dataset_user_0.take(40):\n",
    "  plt.subplot(4, 10, j+1)\n",
    "  plt.imshow(example['pixels'].numpy(), cmap='gray', aspect='equal')\n",
    "  plt.axis('off')\n",
    "  j += 1"
   ]
  },
  {
   "cell_type": "markdown",
   "metadata": {
    "id": "c6wB6PggHO3g"
   },
   "source": [
    "Now let's visualize the number of examples on each client for each MNIST digit label. In the federated environment, the number of examples on each client can vary quite a bit, depending on user behavior."
   ]
  },
  {
   "cell_type": "code",
   "execution_count": 12,
   "metadata": {
    "id": "vrjtRk5kICeN"
   },
   "outputs": [
    {
     "data": {
      "image/png": "[encoded data removed]",
      "text/plain": [
       "<Figure size 864x504 with 6 Axes>"
      ]
     },
     "metadata": {
      "needs_background": "light"
     },
     "output_type": "display_data"
    }
   ],
   "source": [
    "# Number of examples per layer for a sample of clients\n",
    "f = plt.figure(figsize=(12, 7))\n",
    "f.suptitle('Label Counts for a Sample of Clients')\n",
    "for i in range(6):\n",
    "  client_dataset = emnist_train.create_tf_dataset_for_client(\n",
    "      emnist_train.client_ids[i])\n",
    "  plot_data = collections.defaultdict(list)\n",
    "  for example in client_dataset:\n",
    "    # Append counts individually per label to make plots\n",
    "    # more colorful instead of one color per plot.\n",
    "    label = example['label'].numpy()\n",
    "    plot_data[label].append(label)\n",
    "  plt.subplot(2, 3, i+1)\n",
    "  plt.title('Client {}'.format(i))\n",
    "  for j in range(10):\n",
    "    plt.hist(\n",
    "        plot_data[j],\n",
    "        density=False,\n",
    "        bins=range(1,11))"
   ]
  },
  {
   "cell_type": "markdown",
   "metadata": {
    "id": "B9vBNGd2I4Kn"
   },
   "source": [
    "Now let's visualize the mean image per client for each MNIST label. This code will produce the mean of each pixel value for all of the user's examples for one label. We'll see that one client's mean image for a digit will look different than another client's mean image for the same digit, due to each person's unique handwriting style. We can muse about how each local training round will nudge the model in a different direction on each client, as we're learning from that user's own unique data in that local round. Later in the tutorial we'll see how we can take each update to the model from all the clients and aggregate them together into our new global model, that has learned from each of our client's own unique data."
   ]
  },
  {
   "cell_type": "code",
   "execution_count": 13,
   "metadata": {
    "id": "qfkNoBCTJ5Pl"
   },
   "outputs": [
    {
     "data": {
      "image/png": "[encoded data removed]",
      "text/plain": [
       "<Figure size 864x360 with 10 Axes>"
      ]
     },
     "metadata": {
      "needs_background": "light"
     },
     "output_type": "display_data"
    },
    {
     "data": {
      "image/png": "[encoded data removed]",
      "text/plain": [
       "<Figure size 864x360 with 10 Axes>"
      ]
     },
     "metadata": {
      "needs_background": "light"
     },
     "output_type": "display_data"
    },
    {
     "data": {
      "image/png": "[encoded data removed]",
      "text/plain": [
       "<Figure size 864x360 with 10 Axes>"
      ]
     },
     "metadata": {
      "needs_background": "light"
     },
     "output_type": "display_data"
    }
   ],
   "source": [
    "# Each client has different mean images, meaning each client will be nudging\n",
    "# the model in their own directions locally.\n",
    "\n",
    "for i in range(3): # mean over 3 users\n",
    "  client_dataset = emnist_train.create_tf_dataset_for_client(\n",
    "      emnist_train.client_ids[i])\n",
    "\n",
    "  plot_data = collections.defaultdict(list)\n",
    "  for example in client_dataset:\n",
    "    label=example['label'].numpy()\n",
    "    pixels=example['pixels'].numpy()\n",
    "    plot_data[label].append(pixels)\n",
    "    \n",
    "  f = plt.figure(i, figsize=(12, 5))\n",
    "  f.suptitle(\"Client #{}'s Mean Image Per Label\".format(i))\n",
    "  for j in range(10):\n",
    "    mean_img = np.mean(plot_data[j], 0)\n",
    "    plt.subplot(2, 5, j+1)\n",
    "    plt.imshow(mean_img.reshape((28, 28)))\n",
    "    plt.axis('off')"
   ]
  },
  {
   "cell_type": "markdown",
   "metadata": {
    "id": "HpBrx5Jn7X5E"
   },
   "source": [
    "User data can be noisy and unreliably labeled. For example, looking at Client #2's data above, we can see that for label 2, it is possible that there may have been some mislabeled examples creating a noisier mean image."
   ]
  },
  {
   "cell_type": "markdown",
   "metadata": {
    "id": "U0pwnQZUKea2"
   },
   "source": [
    "### Preprocessing the input data"
   ]
  },
  {
   "cell_type": "markdown",
   "metadata": {
    "id": "lMd01egqy9we"
   },
   "source": [
    "Since the data is already a `tf.data.Dataset`,  preprocessing can be accomplished using Dataset transformations. Here, we flatten the `28x28` images\n",
    "into `784`-element arrays, shuffle the individual examples, organize them into batches, and rename the features\n",
    "from `pixels` and `label` to `x` and `y` for use with Keras. We also throw in a\n",
    "`repeat` over the data set to run several epochs."
   ]
  },
  {
   "cell_type": "code",
   "execution_count": 14,
   "metadata": {
    "id": "sq2t-pvHCGGG"
   },
   "outputs": [
    {
     "name": "stdout",
     "output_type": "stream",
     "text": [
      "132\n"
     ]
    }
   ],
   "source": [
    "#finding maximum number of data for all users\n",
    "x=0;\n",
    "for c_id in emnist_train.client_ids:\n",
    "    val = len(emnist_train.create_tf_dataset_for_client(c_id))\n",
    "    if(val>x):\n",
    "        x=val\n",
    "print(x)"
   ]
  },
  {
   "cell_type": "code",
   "execution_count": 15,
   "metadata": {
    "id": "cyG_BMraSuu_"
   },
   "outputs": [],
   "source": [
    "NUM_CLIENTS = 30\n",
    "NUM_EPOCHS = 5\n",
    "BATCH_SIZE = 20\n",
    "SHUFFLE_BUFFER = 100\n",
    "PREFETCH_BUFFER = 10\n",
    "\n",
    "def preprocess(dataset):\n",
    "\n",
    "  def batch_format_fn(element):\n",
    "    \"\"\"Flatten a batch `pixels` and return the features as an `OrderedDict`.\"\"\"\n",
    "    return collections.OrderedDict(\n",
    "        x=tf.reshape(element['pixels'], [-1, 28*28]),\n",
    "        y=tf.reshape(element['label'], [-1, 1]))\n",
    "\n",
    "  return dataset.repeat(NUM_EPOCHS).shuffle(SHUFFLE_BUFFER).batch(\n",
    "      BATCH_SIZE).map(batch_format_fn).prefetch(PREFETCH_BUFFER)"
   ]
  },
  {
   "cell_type": "markdown",
   "metadata": {
    "id": "m9LXykN_jlJw"
   },
   "source": [
    "Let's verify this worked."
   ]
  },
  {
   "cell_type": "code",
   "execution_count": 16,
   "metadata": {
    "id": "VChB7LMQjkYz"
   },
   "outputs": [
    {
     "data": {
      "text/plain": [
       "OrderedDict([('x',\n",
       "              array([[1., 1., 1., ..., 1., 1., 1.],\n",
       "                     [1., 1., 1., ..., 1., 1., 1.],\n",
       "                     [1., 1., 1., ..., 1., 1., 1.],\n",
       "                     ...,\n",
       "                     [1., 1., 1., ..., 1., 1., 1.],\n",
       "                     [1., 1., 1., ..., 1., 1., 1.],\n",
       "                     [1., 1., 1., ..., 1., 1., 1.]], dtype=float32)),\n",
       "             ('y',\n",
       "              array([[7],\n",
       "                     [2],\n",
       "                     [0],\n",
       "                     [7],\n",
       "                     [5],\n",
       "                     [0],\n",
       "                     [9],\n",
       "                     [1],\n",
       "                     [3],\n",
       "                     [7],\n",
       "                     [9],\n",
       "                     [5],\n",
       "                     [1],\n",
       "                     [0],\n",
       "                     [6],\n",
       "                     [0],\n",
       "                     [4],\n",
       "                     [0],\n",
       "                     [5],\n",
       "                     [4]]))])"
      ]
     },
     "execution_count": 16,
     "metadata": {},
     "output_type": "execute_result"
    }
   ],
   "source": [
    "preprocessed_example_dataset = preprocess(dataset_user_0)\n",
    "\n",
    "sample_batch = tf.nest.map_structure(lambda x: x.numpy(),\n",
    "                                     next(iter(preprocessed_example_dataset)))\n",
    "\n",
    "sample_batch"
   ]
  },
  {
   "cell_type": "markdown",
   "metadata": {
    "id": "JGsMvRQt9Agl"
   },
   "source": [
    "We have almost all the building blocks in place to construct federated data\n",
    "sets.\n",
    "\n",
    "One of the ways to feed federated data to TFF in a simulation is simply as a\n",
    "Python list, with each element of the list holding the data of an individual\n",
    "user, whether as a list or as a `tf.data.Dataset`. Since we already have\n",
    "an interface that provides the latter, let's use it.\n",
    "\n",
    "Here's a simple helper function that will construct a list of datasets from the\n",
    "given set of users as an input to a round of training or evaluation."
   ]
  },
  {
   "cell_type": "code",
   "execution_count": 17,
   "metadata": {
    "id": "_PHMvHAI9xVc"
   },
   "outputs": [],
   "source": [
    "def make_federated_data(client_data, client_ids):\n",
    "  return [\n",
    "      preprocess(client_data.create_tf_dataset_for_client(x))\n",
    "      for x in client_ids\n",
    "  ]"
   ]
  },
  {
   "cell_type": "markdown",
   "metadata": {
    "id": "0M9PfjOtAVqw"
   },
   "source": [
    "Now, how do we choose clients?\n",
    "\n",
    "In a typical federated training scenario, we are dealing with potentially a very\n",
    "large population of user devices, only a fraction of which may be available for\n",
    "training at a given point in time. This is the case, for example, when the\n",
    "client devices are mobile phones that participate in training only when plugged\n",
    "into a power source, off a metered network, and otherwise idle.\n",
    "\n",
    "Of course, we are in a simulation environment, and all the data is locally\n",
    "available. Typically then, when running simulations, we would simply sample a\n",
    "random subset of the clients to be involved in each round of training, generally\n",
    "different in each round.\n",
    "\n",
    "That said, as you can find out by studying the paper on the\n",
    "[Federated Averaging](https://arxiv.org/abs/1602.05629) algorithm, achieving convergence in a system with randomly sampled\n",
    "subsets of clients in each round can take a while, and it would be impractical\n",
    "to have to run hundreds of rounds in this interactive tutorial.\n",
    "\n",
    "What we'll do instead is sample the set of clients once, and\n",
    "reuse the same set across rounds to speed up convergence (intentionally\n",
    "over-fitting to these few user's data)."
   ]
  },
  {
   "cell_type": "code",
   "execution_count": 18,
   "metadata": {
    "id": "GZ6NYHxB8xer"
   },
   "outputs": [
    {
     "name": "stdout",
     "output_type": "stream",
     "text": [
      "Number of client datasets: 30\n",
      "First dataset: <PrefetchDataset shapes: OrderedDict([(x, (None, 784)), (y, (None, 1))]), types: OrderedDict([(x, tf.float32), (y, tf.int32)])>\n"
     ]
    }
   ],
   "source": [
    "def give_sample_cilents(count):\n",
    "    return np.random.choice(emnist_train.client_ids,count)\n",
    "    \n",
    "sample_clients = give_sample_cilents(NUM_CLIENTS)\n",
    "\n",
    "federated_train_data = make_federated_data(emnist_train, sample_clients)\n",
    "\n",
    "print('Number of client datasets: {l}'.format(l=len(federated_train_data)))\n",
    "print('First dataset: {d}'.format(d=federated_train_data[0]))"
   ]
  },
  {
   "cell_type": "markdown",
   "metadata": {
    "id": "HOxq4tbi9m8-"
   },
   "source": [
    "## Creating a simple model with Keras\n",
    "\n",
    "If you are using Keras, you likely already have code that constructs a Keras\n",
    "model. Here's an example of a simple model that will suffice for our needs."
   ]
  },
  {
   "cell_type": "code",
   "execution_count": 19,
   "metadata": {
    "id": "LYCsJGJFWbqt"
   },
   "outputs": [],
   "source": [
    "def create_keras_model():\n",
    "  return tf.keras.models.Sequential([\n",
    "      \n",
    "      tf.keras.layers.Input(shape=(784,)),\n",
    "      tf.keras.layers.Dense(10, kernel_initializer='zeros'),\n",
    "      tf.keras.layers.Softmax(),\n",
    "  ])"
   ]
  },
  {
   "cell_type": "markdown",
   "metadata": {
    "id": "NHdraKFH4OU2"
   },
   "source": [
    "**Note:** we do not compile the model yet. The loss, metrics, and optimizers are introduced later.\n",
    "\n",
    "In order to use any model with TFF, it needs to be wrapped in an instance of the\n",
    "`tff.learning.Model` interface, which exposes methods to stamp the model's\n",
    "forward pass, metadata properties, etc., similarly to Keras, but also introduces\n",
    "additional elements, such as ways to control the process of computing federated\n",
    "metrics. Let's not worry about this for now; if you have a Keras model like the\n",
    "one we've just defined above, you can have TFF wrap it for you by invoking\n",
    "`tff.learning.from_keras_model`, passing the model and a sample data batch as\n",
    "arguments, as shown below."
   ]
  },
  {
   "cell_type": "code",
   "execution_count": 20,
   "metadata": {
    "id": "nuMFJicECGGK"
   },
   "outputs": [
    {
     "data": {
      "text/plain": [
       "OrderedDict([('x', TensorSpec(shape=(None, 784), dtype=tf.float32, name=None)),\n",
       "             ('y', TensorSpec(shape=(None, 1), dtype=tf.int32, name=None))])"
      ]
     },
     "execution_count": 20,
     "metadata": {},
     "output_type": "execute_result"
    }
   ],
   "source": [
    "preprocessed_example_dataset.element_spec"
   ]
  },
  {
   "cell_type": "code",
   "execution_count": 21,
   "metadata": {
    "id": "Q3ynrxd53HzY"
   },
   "outputs": [],
   "source": [
    "def model_fn():\n",
    "  # We _must_ create a new model here, and _not_ capture it from an external\n",
    "  # scope. TFF will call this within different graph contexts.\n",
    "  keras_model = create_keras_model()\n",
    "  return tff.learning.from_keras_model(\n",
    "      keras_model,\n",
    "      input_spec=preprocessed_example_dataset.element_spec,\n",
    "      loss=tf.keras.losses.SparseCategoricalCrossentropy(),\n",
    "      metrics=[tf.keras.metrics.SparseCategoricalAccuracy()])"
   ]
  },
  {
   "cell_type": "markdown",
   "metadata": {
    "id": "XJ5E3O18_JZ6"
   },
   "source": [
    "## Training the model on federated data\n",
    "\n",
    "Now that we have a model wrapped as `tff.learning.Model` for use with TFF, we\n",
    "can let TFF construct a Federated Averaging algorithm by invoking the helper\n",
    "function `tff.learning.build_federated_averaging_process`, as follows.\n",
    "\n",
    "Keep in mind that the argument needs to be a constructor (such as `model_fn`\n",
    "above), not an already-constructed instance, so that the construction of your\n",
    "model can happen in a context controlled by TFF (if you're curious about the\n",
    "reasons for this, we encourage you to read the follow-up tutorial on\n",
    "[custom algorithms](custom_federated_algorithms_1.ipynb)).\n",
    "\n",
    "One critical note on the Federated Averaging algorithm below, there are **2**\n",
    "optimizers: a _client_optimizer_ and a _server_optimizer_. The\n",
    "_client_optimizer_ is only used to compute local model updates on each client.\n",
    "The _server_optimizer_ applies the averaged update to the global model at the\n",
    "server. In particular, this means that the choice of optimizer and learning rate\n",
    "used may need to be different than the ones you have used to train the model on\n",
    "a standard i.i.d. dataset. We recommend starting with regular SGD, possibly with\n",
    "a smaller learning rate than usual. The learning rate we use has not been\n",
    "carefully tuned, feel free to experiment."
   ]
  },
  {
   "cell_type": "code",
   "execution_count": 22,
   "metadata": {
    "id": "sk6mjOfycX5N"
   },
   "outputs": [],
   "source": [
    "iterative_process = tff.learning.build_federated_averaging_process(\n",
    "    model_fn,\n",
    "    client_optimizer_fn=lambda: tf.keras.optimizers.SGD(learning_rate=0.02),\n",
    "    server_optimizer_fn=lambda: tf.keras.optimizers.SGD(learning_rate=1.0))"
   ]
  },
  {
   "cell_type": "markdown",
   "metadata": {
    "id": "71yEKRntCGGL"
   },
   "source": [
    "What just happened? TFF has constructed a pair of *federated computations* and\n",
    "packaged them into a `tff.templates.IterativeProcess` in which these computations\n",
    "are available as a pair of properties `initialize` and `next`."
   ]
  },
  {
   "cell_type": "code",
   "execution_count": 23,
   "metadata": {
    "id": "dz3uvD_hCGGL"
   },
   "outputs": [
    {
     "data": {
      "text/plain": [
       "<tensorflow_federated.python.core.templates.iterative_process.IterativeProcess at 0x2d8102402e0>"
      ]
     },
     "execution_count": 23,
     "metadata": {},
     "output_type": "execute_result"
    }
   ],
   "source": [
    "iterative_process"
   ]
  },
  {
   "cell_type": "markdown",
   "metadata": {
    "id": "f8FpvN2n67sm"
   },
   "source": [
    "In a nutshell, *federated computations* are programs in TFF's internal language\n",
    "that can express various federated algorithms (you can find more about this in\n",
    "the [custom algorithms](custom_federated_algorithms_1.ipynb) tutorial). In this\n",
    "case, the two computations generated and packed into `iterative_process`\n",
    "implement [Federated Averaging](https://arxiv.org/abs/1602.05629).\n",
    "\n",
    "It is a goal of TFF to define computations in a way that they could be executed\n",
    "in real federated learning settings, but currently only local execution\n",
    "simulation runtime is implemented. To execute a computation in a simulator, you\n",
    "simply invoke it like a Python function. This default interpreted environment is\n",
    "not designed for high performance, but it will suffice for this tutorial.\n",
    "\n",
    "Let's start with the `initialize` computation. As is the case for all federated\n",
    "computations, you can think of it as a function. The computation takes no\n",
    "arguments, and returns one result - the representation of the state of the\n",
    "Federated Averaging process on the server. While we don't want to dive into the\n",
    "details of TFF, it may be instructive to see what this state looks like. You can\n",
    "visualize it as follows."
   ]
  },
  {
   "cell_type": "code",
   "execution_count": 24,
   "metadata": {
    "id": "Z4pcfWsUBp_5"
   },
   "outputs": [
    {
     "data": {
      "text/plain": [
       "'( -> <model=<trainable=<float32[784,10],float32[10]>,non_trainable=<>>,optimizer_state=<int64>,delta_aggregate_state=<value_sum_process=<>,weight_sum_process=<>>,model_broadcast_state=<>>@SERVER)'"
      ]
     },
     "execution_count": 24,
     "metadata": {},
     "output_type": "execute_result"
    }
   ],
   "source": [
    "str(iterative_process.initialize.type_signature)"
   ]
  },
  {
   "cell_type": "markdown",
   "metadata": {
    "id": "v1gbHQ_7BiyT"
   },
   "source": [
    "While the above type signature may at first seem a bit cryptic, you can\n",
    "recognize that the server state consists of a `model` (the initial model\n",
    "parameters for MNIST that will be distributed to all devices), and\n",
    "`optimizer_state` (additional information maintained by the server, such as the\n",
    "number of rounds to use for hyperparameter schedules, etc.).\n",
    "\n",
    "Let's invoke the `initialize` computation to construct the server state."
   ]
  },
  {
   "cell_type": "code",
   "execution_count": 25,
   "metadata": {
    "id": "6cagCWlZmcch"
   },
   "outputs": [],
   "source": [
    "state = iterative_process.initialize()"
   ]
  },
  {
   "cell_type": "markdown",
   "metadata": {
    "id": "TjjxTx9e_rMd"
   },
   "source": [
    "The second of the pair of federated computations, `next`, represents a **single\n",
    "round of Federated Averaging**, which consists of pushing the server state\n",
    "(including the model parameters) to the clients, on-device training on their\n",
    "local data, collecting and averaging model updates, and producing a new updated\n",
    "model at the server.\n",
    "\n",
    "Conceptually, you can think of `next` as having a functional type signature that\n",
    "looks as follows.\n",
    "\n",
    "```\n",
    "SERVER_STATE, FEDERATED_DATA -> SERVER_STATE, TRAINING_METRICS\n",
    "```\n",
    "\n",
    "In particular, one should think about `next()` not as being a function that runs on a server, but rather being a declarative functional representation of the entire decentralized computation - some of the inputs are provided by the server (`SERVER_STATE`), but each participating device contributes its own local dataset.\n",
    "\n",
    "Let's run a single round of training and visualize the results. We can use the\n",
    "federated data we've already generated above for a sample of users."
   ]
  },
  {
   "cell_type": "code",
   "execution_count": 26,
   "metadata": {
    "id": "F3M_W9dDE6Tm"
   },
   "outputs": [
    {
     "name": "stdout",
     "output_type": "stream",
     "text": [
      "round  1, metrics=OrderedDict([('broadcast', ()), ('aggregation', OrderedDict([('value_sum_process', ()), ('weight_sum_process', ())])), ('train', OrderedDict([('sparse_categorical_accuracy', 0.11910686), ('loss', 3.1075246)]))])\n"
     ]
    }
   ],
   "source": [
    "state, metrics = iterative_process.next(state, federated_train_data)\n",
    "print('round  1, metrics={}'.format(metrics))"
   ]
  },
  {
   "cell_type": "markdown",
   "metadata": {
    "id": "UmhReXt9G4A5"
   },
   "source": [
    "Let's run a few more rounds. As noted earlier, typically at this point you would\n",
    "pick a subset of your simulation data from a new randomly selected sample of\n",
    "users for each round in order to simulate a realistic deployment in which users\n",
    "continuously come and go, but in this interactive notebook, for the sake of\n",
    "demonstration we'll just reuse the same users, so that the system converges\n",
    "quickly."
   ]
  },
  {
   "cell_type": "code",
   "execution_count": 27,
   "metadata": {
    "id": "qrJkQuCRJP9C"
   },
   "outputs": [
    {
     "name": "stdout",
     "output_type": "stream",
     "text": [
      "round  2, metrics=(loss=2.972052812576294/accuracy=0.13110047578811646\n",
      "round  3, metrics=(loss=2.874190330505371/accuracy=0.14347687363624573\n",
      "round  4, metrics=(loss=2.8308959007263184/accuracy=0.1599999964237213\n",
      "round  5, metrics=(loss=2.616349935531616/accuracy=0.1984688937664032\n",
      "round  6, metrics=(loss=2.4877383708953857/accuracy=0.22494417428970337\n",
      "round  7, metrics=(loss=2.3840298652648926/accuracy=0.22915470600128174\n",
      "round  8, metrics=(loss=2.3188834190368652/accuracy=0.2655821442604065\n",
      "round  9, metrics=(loss=2.2180588245391846/accuracy=0.2815949022769928\n",
      "round 10, metrics=(loss=2.12312650680542/accuracy=0.3104306161403656\n",
      "round 11, metrics=(loss=2.085867166519165/accuracy=0.3192344605922699\n",
      "round 12, metrics=(loss=2.0082457065582275/accuracy=0.3461562991142273\n",
      "round 13, metrics=(loss=1.916454553604126/accuracy=0.3754386007785797\n",
      "round 14, metrics=(loss=1.8570830821990967/accuracy=0.4061881899833679\n",
      "round 15, metrics=(loss=1.7726057767868042/accuracy=0.4236682653427124\n",
      "round 16, metrics=(loss=1.7318155765533447/accuracy=0.4382137060165405\n",
      "round 17, metrics=(loss=1.6510993242263794/accuracy=0.4611164331436157\n",
      "round 18, metrics=(loss=1.5825839042663574/accuracy=0.5009250640869141\n",
      "round 19, metrics=(loss=1.5446031093597412/accuracy=0.505709707736969\n"
     ]
    }
   ],
   "source": [
    "NUM_ROUNDS = 20\n",
    "for round_num in range(2, NUM_ROUNDS):\n",
    "  \n",
    "  state, metrics = iterative_process.next(state, federated_train_data)\n",
    "  print('round {0:2d}, metrics=(loss={2}/accuracy={1}'.format(round_num, metrics.get(\"train\")[\"sparse_categorical_accuracy\"],metrics.get(\"train\")[\"loss\"]))"
   ]
  },
  {
   "cell_type": "markdown",
   "metadata": {
    "id": "joHYzn9jcs0Y"
   },
   "source": [
    "Training loss is decreasing after each round of federated training, indicating\n",
    "the model is converging. There are some important caveats with these training\n",
    "metrics, however, see the section on *Evaluation* later in this tutorial."
   ]
  },
  {
   "cell_type": "markdown",
   "metadata": {
    "id": "ruSHJl1IjhNf"
   },
   "source": [
    "## Displaying model metrics in TensorBoard\n",
    "Next, let's visualize the metrics from these federated computations using Tensorboard.\n",
    "\n",
    "Let's start by creating the directory and the corresponding summary writer to write the metrics to.\n",
    "\n",
    "\n"
   ]
  },
  {
   "cell_type": "code",
   "execution_count": 28,
   "metadata": {
    "id": "E3QUBK41lWDW"
   },
   "outputs": [
    {
     "name": "stdout",
     "output_type": "stream",
     "text": [
      " Volume in drive D is data\n",
      " Volume Serial Number is 7480-0583\n",
      "\n",
      " Directory of D:\\logs\\scalars\\training\n",
      "\n",
      "02/20/2021  05:27 PM    <DIR>          .\n",
      "02/20/2021  05:27 PM    <DIR>          ..\n",
      "01/07/2021  06:01 PM                40 events.out.tfevents.1610029917.ALI-PC.1076.37668.v2\n",
      "01/07/2021  06:02 PM                40 events.out.tfevents.1610029953.ALI-PC.1076.37701.v2\n",
      "01/07/2021  06:02 PM                40 events.out.tfevents.1610029972.ALI-PC.1076.37734.v2\n",
      "01/07/2021  06:03 PM                40 events.out.tfevents.1610030033.ALI-PC.1076.37767.v2\n",
      "01/07/2021  06:04 PM                40 events.out.tfevents.1610030051.ALI-PC.1076.37800.v2\n",
      "01/07/2021  06:04 PM                40 events.out.tfevents.1610030061.ALI-PC.1076.37833.v2\n",
      "01/07/2021  06:18 PM                40 events.out.tfevents.1610030903.ALI-PC.12088.23141.v2\n",
      "01/07/2021  06:50 PM                40 events.out.tfevents.1610032816.ALI-PC.12088.23207.v2\n",
      "01/07/2021  06:51 PM                40 events.out.tfevents.1610032902.ALI-PC.12088.23240.v2\n",
      "01/07/2021  06:58 PM             4,450 events.out.tfevents.1610032912.ALI-PC.12088.23273.v2\n",
      "01/07/2021  07:14 PM             1,510 events.out.tfevents.1610034265.ALI-PC.7308.23141.v2\n",
      "02/20/2021  03:27 PM             6,067 events.out.tfevents.1613821857.ALI-PC.7172.71951.v2\n",
      "02/20/2021  05:32 PM             5,920 events.out.tfevents.1613829420.ALI-PC.14796.71951.v2\n",
      "              13 File(s)         18,307 bytes\n",
      "               2 Dir(s)  127,526,158,336 bytes free\n"
     ]
    }
   ],
   "source": [
    "#@test {\"skip\": true}\n",
    "# use dir for windows\n",
    "from platform import uname\n",
    "import os\n",
    "z=os.path.join(\"D:/\",\"logs/scalars/training/\")\n",
    "x=(uname())[0]\n",
    "\n",
    "if x!='Windows':\n",
    "    print(1)\n",
    "    logdir = \"/tmp/logs/scalars/training/\"\n",
    "    !ls {logdir}\n",
    "else:\n",
    "    logdir = \"D:/logs/scalars/training/\"\n",
    "    logdir = logdir.replace('/','\\\\')\n",
    "    !dir {logdir}\n",
    "summary_writer = tf.summary.create_file_writer(logdir)\n",
    "state = iterative_process.initialize()"
   ]
  },
  {
   "cell_type": "markdown",
   "metadata": {
    "id": "w-2aGxUlzS_J"
   },
   "source": [
    "Plot the relevant scalar metrics with the same summary writer\n",
    "\n",
    "**this time we sample users randomly**\n",
    "\n",
    "for completeness we added evaluation but it will be elabrated later more."
   ]
  },
  {
   "cell_type": "code",
   "execution_count": 29,
   "metadata": {
    "id": "JZtr4_8lzN-V"
   },
   "outputs": [
    {
     "name": "stdout",
     "output_type": "stream",
     "text": [
      "round 1/20\n",
      "round 2/20\n",
      "round 3/20\n",
      "round 4/20\n",
      "round 5/20\n",
      "round 6/20\n",
      "round 7/20\n",
      "round 8/20\n",
      "round 9/20\n",
      "round 10/20\n",
      "round 11/20\n",
      "round 12/20\n",
      "round 13/20\n",
      "round 14/20\n",
      "round 15/20\n",
      "round 16/20\n",
      "round 17/20\n",
      "round 18/20\n",
      "round 19/20\n"
     ]
    }
   ],
   "source": [
    "#@test {\"skip\": true}\n",
    "evaluation = tff.learning.build_federated_evaluation(model_fn)\n",
    "fed_train_results=[]\n",
    "fed_test_results=[]\n",
    "with summary_writer.as_default():\n",
    "  for round_num in range(1, NUM_ROUNDS):\n",
    "    #sample_clients = give_sample_cilents(NUM_CLIENTS)\n",
    "    federated_train_data = make_federated_data(emnist_train, sample_clients)\n",
    "    state, metrics = iterative_process.next(state, federated_train_data)\n",
    "\n",
    "    # Testing and trined\n",
    "    sample_clients = give_sample_cilents(NUM_CLIENTS) # we sample again with the same number of users but not necessarily same users\n",
    "    federated_test_data = make_federated_data(emnist_test, sample_clients)\n",
    "    test_metrics_federated = evaluation(state.model, federated_test_data)\n",
    "    fed_test_results.append(test_metrics_federated)\n",
    "    fed_train_results.append(metrics)\n",
    "    for name, value in metrics['train'].items():\n",
    "      tf.summary.scalar(name, value, step=round_num)\n",
    "    print('round {}/{}'.format(round_num+1, NUM_ROUNDS))"
   ]
  },
  {
   "cell_type": "code",
   "execution_count": 30,
   "metadata": {
    "id": "P0cZqrNZMpBh"
   },
   "outputs": [
    {
     "data": {
      "text/plain": [
       "OrderedDict([('sparse_categorical_accuracy', 0.68767124), ('loss', 1.2569522)])"
      ]
     },
     "execution_count": 30,
     "metadata": {},
     "output_type": "execute_result"
    }
   ],
   "source": [
    "fed_test_results[-1]"
   ]
  },
  {
   "cell_type": "markdown",
   "metadata": {
    "id": "iUouyAHG0Mk8"
   },
   "source": [
    "Start TensorBoard with the root log directory specified above. It can take a few seconds for the data to load."
   ]
  },
  {
   "cell_type": "code",
   "execution_count": 31,
   "metadata": {
    "id": "HEcPY_xaCGGR"
   },
   "outputs": [
    {
     "data": {
      "text/plain": [
       "'D:\\\\logs\\\\scalars\\\\training\\\\'"
      ]
     },
     "execution_count": 31,
     "metadata": {},
     "output_type": "execute_result"
    }
   ],
   "source": [
    "logdir"
   ]
  },
  {
   "cell_type": "code",
   "execution_count": 32,
   "metadata": {
    "id": "urYYcmA9089p"
   },
   "outputs": [
    {
     "data": {
      "text/plain": [
       "Reusing TensorBoard on port 6006 (pid 19316), started 0:45:04 ago. (Use '!kill 19316' to kill it.)"
      ]
     },
     "metadata": {},
     "output_type": "display_data"
    },
    {
     "data": {
      "text/html": [
       "\n",
       "      <iframe id=\"tensorboard-frame-db54e208c33aa466\" width=\"100%\" height=\"800\" frameborder=\"0\">\n",
       "      </iframe>\n",
       "      <script>\n",
       "        (function() {\n",
       "          const frame = document.getElementById(\"tensorboard-frame-db54e208c33aa466\");\n",
       "          const url = new URL(\"/\", window.location);\n",
       "          const port = 6006;\n",
       "          if (port) {\n",
       "            url.port = port;\n",
       "          }\n",
       "          frame.src = url;\n",
       "        })();\n",
       "      </script>\n",
       "    "
      ],
      "text/plain": [
       "<IPython.core.display.HTML object>"
      ]
     },
     "metadata": {},
     "output_type": "display_data"
    }
   ],
   "source": [
    "#@test {\"skip\": true}\n",
    "\n",
    "%tensorboard --logdir {logdir} --port=0"
   ]
  },
  {
   "cell_type": "code",
   "execution_count": 33,
   "metadata": {
    "id": "ZMcV15W7b1wG"
   },
   "outputs": [],
   "source": [
    "#@test {\"skip\": true}\n",
    "# Uncomment and run this this cell to clean your directory of old output for\n",
    "# future graphs from this directory. We don't run it by default so that if \n",
    "# you do a \"Runtime > Run all\" you don't lose your results.\n",
    "\n",
    "#!rm -R /tmp/logs/scalars/*"
   ]
  },
  {
   "cell_type": "markdown",
   "metadata": {
    "id": "jejrFEVP1EDs"
   },
   "source": [
    "In order to view evaluation metrics the same way, you can create a separate eval folder, like \"logs/scalars/eval\", to write to TensorBoard."
   ]
  },
  {
   "cell_type": "markdown",
   "metadata": {
    "id": "T4hneAcb-F2l"
   },
   "source": [
    "## Customizing the model implementation\n",
    "\n",
    "Keras is the [recommended high-level model API for TensorFlow](https://medium.com/tensorflow/standardizing-on-keras-guidance-on-high-level-apis-in-tensorflow-2-0-bad2b04c819a), and we encourage using Keras models (via \n",
    "`tff.learning.from_keras_model`) in TFF whenever possible.\n",
    "\n",
    "However, `tff.learning` provides a lower-level model interface, `tff.learning.Model`, that exposes the minimal functionality necessary for using a model for federated learning. Directly implementing this interface (possibly still using building blocks like `tf.keras.layers`) allows for maximum customization without modifying the internals of the federated learning algorithms.\n",
    "\n",
    "So let's do it all over again from scratch.\n",
    "\n",
    "### Defining model variables, forward pass, and metrics\n",
    "\n",
    "The first step is to identify the TensorFlow variables we're going to work with.\n",
    "In order to make the following code more legible, let's define a data structure\n",
    "to represent the entire set. This will include variables such as `weights` and\n",
    "`bias` that we will train, as well as variables that will hold various\n",
    "cumulative statistics and counters we will update during training, such as\n",
    "`loss_sum`, `accuracy_sum`, and `num_examples`."
   ]
  },
  {
   "cell_type": "code",
   "execution_count": 34,
   "metadata": {
    "id": "uqRD72WQC4u1"
   },
   "outputs": [],
   "source": [
    "MnistVariables = collections.namedtuple(\n",
    "    'MnistVariables', 'weights bias num_examples loss_sum accuracy_sum')"
   ]
  },
  {
   "cell_type": "markdown",
   "metadata": {
    "id": "nkJfDcY5oXii"
   },
   "source": [
    "Here's a method that creates the variables. For the sake of simplicity, we\n",
    "represent all statistics as `tf.float32`, as that will eliminate the need for\n",
    "type conversions at a later stage. Wrapping variable initializers as lambdas is\n",
    "a requirement imposed by\n",
    "[resource variables](https://www.tensorflow.org/api_docs/python/tf/enable_resource_variables)."
   ]
  },
  {
   "cell_type": "code",
   "execution_count": 35,
   "metadata": {
    "id": "H3GQHLNqCfMU"
   },
   "outputs": [],
   "source": [
    "def create_mnist_variables():\n",
    "  return MnistVariables(\n",
    "      weights=tf.Variable(\n",
    "          lambda: tf.zeros(dtype=tf.float32, shape=(784, 10)),\n",
    "          name='weights',\n",
    "          trainable=True),\n",
    "      bias=tf.Variable(\n",
    "          lambda: tf.zeros(dtype=tf.float32, shape=(10)),\n",
    "          name='bias',\n",
    "          trainable=True),\n",
    "      num_examples=tf.Variable(0.0, name='num_examples', trainable=False),\n",
    "      loss_sum=tf.Variable(0.0, name='loss_sum', trainable=False),\n",
    "      accuracy_sum=tf.Variable(0.0, name='accuracy_sum', trainable=False))"
   ]
  },
  {
   "cell_type": "markdown",
   "metadata": {
    "id": "SrdnR0fAre-Q"
   },
   "source": [
    "With the variables for model parameters and cumulative statistics in place, we\n",
    "can now define the forward pass method that computes loss, emits predictions,\n",
    "and updates the cumulative statistics for a single batch of input data, as\n",
    "follows."
   ]
  },
  {
   "cell_type": "code",
   "execution_count": 36,
   "metadata": {
    "id": "ZYSRAl-KCvC7"
   },
   "outputs": [],
   "source": [
    "def mnist_forward_pass(variables, batch):\n",
    "  y = tf.nn.softmax(tf.matmul(batch['x'], variables.weights) + variables.bias)\n",
    "  predictions = tf.cast(tf.argmax(y, 1), tf.int32)\n",
    "\n",
    "  flat_labels = tf.reshape(batch['y'], [-1])\n",
    "  loss = -tf.reduce_mean(\n",
    "      tf.reduce_sum(tf.one_hot(flat_labels, 10) * tf.math.log(y), axis=[1]))\n",
    "  accuracy = tf.reduce_mean(\n",
    "      tf.cast(tf.equal(predictions, flat_labels), tf.float32))\n",
    "\n",
    "  num_examples = tf.cast(tf.size(batch['y']), tf.float32)\n",
    "\n",
    "  variables.num_examples.assign_add(num_examples)\n",
    "  variables.loss_sum.assign_add(loss * num_examples)\n",
    "  variables.accuracy_sum.assign_add(accuracy * num_examples)\n",
    "\n",
    "  return loss, predictions"
   ]
  },
  {
   "cell_type": "markdown",
   "metadata": {
    "id": "-gm-yx2Mr_bl"
   },
   "source": [
    "Next, we define a function that returns a set of local metrics, again using TensorFlow. These are the values (in addition to model updates, which are handled automatically) that are eligible to be aggregated to the server in a federated learning or evaluation process.\n",
    "\n",
    "Here, we simply return the average `loss` and `accuracy`, as well as the\n",
    "`num_examples`, which we'll need to correctly weight the contributions from\n",
    "different users when computing federated aggregates."
   ]
  },
  {
   "cell_type": "code",
   "execution_count": 37,
   "metadata": {
    "id": "RkAZXhjGEekp"
   },
   "outputs": [],
   "source": [
    "def get_local_mnist_metrics(variables):\n",
    "  return collections.OrderedDict(\n",
    "      num_examples=variables.num_examples,\n",
    "      loss=variables.loss_sum / variables.num_examples,\n",
    "      accuracy=variables.accuracy_sum / variables.num_examples)"
   ]
  },
  {
   "cell_type": "markdown",
   "metadata": {
    "id": "9ywGs1G-s1o3"
   },
   "source": [
    "Finally, we need to determine how to aggregate the local metrics emitted by each\n",
    "device via `get_local_mnist_metrics`. This is the only part of the code that isn't written in TensorFlow  - it's a *federated computation* expressed in TFF. If you'd like to\n",
    "dig deeper, skim over the [custom algorithms](custom_federated_algorithms_1.ipynb)\n",
    "tutorial, but in most applications, you won't really need to; variants of the\n",
    "pattern shown below should suffice. Here's what it looks like:\n"
   ]
  },
  {
   "cell_type": "code",
   "execution_count": 38,
   "metadata": {
    "id": "BMr2PwkfExFI"
   },
   "outputs": [],
   "source": [
    "@tff.federated_computation\n",
    "def aggregate_mnist_metrics_across_clients(metrics):\n",
    "  return collections.OrderedDict(\n",
    "      num_examples=tff.federated_sum(metrics.num_examples),\n",
    "      loss=tff.federated_mean(metrics.loss, metrics.num_examples),\n",
    "      accuracy=tff.federated_mean(metrics.accuracy, metrics.num_examples))\n",
    "  "
   ]
  },
  {
   "cell_type": "markdown",
   "metadata": {
    "id": "2rXZ3Hg44aeN"
   },
   "source": [
    "The input `metrics` argument corresponds to the `OrderedDict` returned by `get_local_mnist_metrics` above, but critically the values are no longer `tf.Tensors` - they are \"boxed\" as `tff.Value`s, to make it clear you can no longer manipulate them using TensorFlow, but only using TFF's federated operators like `tff.federated_mean` and `tff.federated_sum`.  The returned\n",
    "dictionary of global aggregates defines the set of metrics which will be available on the server.\n",
    "\n",
    "\n"
   ]
  },
  {
   "cell_type": "markdown",
   "metadata": {
    "id": "7MXGAuQRvmcp"
   },
   "source": [
    "### Constructing an instance of `tff.learning.Model`\n",
    "\n",
    "With all of the above in place, we are ready to construct a model representation\n",
    "for use with TFF similar to one that's generated for you when you let TFF ingest\n",
    "a Keras model."
   ]
  },
  {
   "cell_type": "code",
   "execution_count": 39,
   "metadata": {
    "id": "blQGiTQFS9_r"
   },
   "outputs": [],
   "source": [
    "class MnistModel(tff.learning.Model):\n",
    "\n",
    "  def __init__(self):\n",
    "    self._variables = create_mnist_variables()\n",
    "\n",
    "  @property\n",
    "  def trainable_variables(self):\n",
    "    return [self._variables.weights, self._variables.bias]\n",
    "\n",
    "  @property\n",
    "  def non_trainable_variables(self):\n",
    "    return []\n",
    "\n",
    "  @property\n",
    "  def local_variables(self):\n",
    "    return [\n",
    "        self._variables.num_examples, self._variables.loss_sum,\n",
    "        self._variables.accuracy_sum\n",
    "    ]\n",
    "\n",
    "  @property\n",
    "  def input_spec(self):\n",
    "    return collections.OrderedDict(\n",
    "        x=tf.TensorSpec([None, 784], tf.float32),\n",
    "        y=tf.TensorSpec([None, 1], tf.int32))\n",
    "\n",
    "  @tf.function\n",
    "  def forward_pass(self, batch, training=True):\n",
    "    del training\n",
    "    loss, predictions = mnist_forward_pass(self._variables, batch)\n",
    "    num_exmaples = tf.shape(batch['x'])[0]\n",
    "    return tff.learning.BatchOutput(\n",
    "        loss=loss, predictions=predictions, num_examples=num_exmaples)\n",
    "\n",
    "  @tf.function\n",
    "  def report_local_outputs(self):\n",
    "    return get_local_mnist_metrics(self._variables)\n",
    "\n",
    "  @property\n",
    "  def federated_output_computation(self):\n",
    "    return aggregate_mnist_metrics_across_clients"
   ]
  },
  {
   "cell_type": "markdown",
   "metadata": {
    "id": "sMN1AszMwLHL"
   },
   "source": [
    "As you can see, the abstract methods and properties defined by\n",
    "`tff.learning.Model` corresponds to the code snippets in the preceding section\n",
    "that introduced the variables and defined the loss and statistics.\n",
    "\n",
    "Here are a few points worth highlighting:\n",
    "\n",
    "*   All state that your model will use must be captured as TensorFlow variables,\n",
    "    as TFF does not use Python at runtime (remember your code should be written\n",
    "    such that it can be deployed to mobile devices; see the\n",
    "    [custom algorithms](custom_federated_algorithms_1.ipynb) tutorial for a more\n",
    "    in-depth commentary on the reasons).\n",
    "*   Your model should describe what form of data it accepts (`input_spec`), as\n",
    "    in general, TFF is a strongly-typed environment and wants to determine type\n",
    "    signatures for all components. Declaring the format of your model's input is\n",
    "    an essential part of it.\n",
    "*   Although technically not required, we recommend wrapping all TensorFlow\n",
    "    logic (forward pass, metric calculations, etc.) as `tf.function`s,\n",
    "    as this helps ensure the TensorFlow can be serialized, and removes the need\n",
    "    for explicit control dependencies.\n"
   ]
  },
  {
   "cell_type": "markdown",
   "metadata": {
    "id": "9DVhXk2Bu-GU"
   },
   "source": [
    "The above is sufficient for evaluation and algorithms like Federated SGD.\n",
    "However, for Federated Averaging, we need to specify how the model should train\n",
    "locally on each batch. We will specify a local optimizer when building the Federated Averaging algorithm."
   ]
  },
  {
   "cell_type": "markdown",
   "metadata": {
    "id": "hVBugKP3yw03"
   },
   "source": [
    "### Simulating federated training with the new model\n",
    "\n",
    "With all the above in place, the remainder of the process looks like what we've\n",
    "seen already - just replace the model constructor with the constructor of our\n",
    "new model class, and use the two federated computations in the iterative process\n",
    "you created to cycle through training rounds."
   ]
  },
  {
   "cell_type": "code",
   "execution_count": 40,
   "metadata": {
    "id": "FK3c8_leS9_t"
   },
   "outputs": [],
   "source": [
    "iterative_process = tff.learning.build_federated_averaging_process(\n",
    "    MnistModel,\n",
    "    client_optimizer_fn=lambda: tf.keras.optimizers.SGD(learning_rate=0.02))"
   ]
  },
  {
   "cell_type": "code",
   "execution_count": 41,
   "metadata": {
    "id": "Jv_LiggwS9_u"
   },
   "outputs": [],
   "source": [
    "state = iterative_process.initialize()"
   ]
  },
  {
   "cell_type": "code",
   "execution_count": 42,
   "metadata": {
    "id": "PtOLElmzDPxs"
   },
   "outputs": [
    {
     "name": "stdout",
     "output_type": "stream",
     "text": [
      "round  1, metrics=OrderedDict([('broadcast', ()), ('aggregation', OrderedDict([('value_sum_process', ()), ('weight_sum_process', ())])), ('train', OrderedDict([('num_examples', 15050.0), ('loss', 3.0416937), ('accuracy', 0.11800665)]))])\n"
     ]
    }
   ],
   "source": [
    "state, metrics = iterative_process.next(state, federated_train_data)\n",
    "print('round  1, metrics={}'.format(metrics))"
   ]
  },
  {
   "cell_type": "code",
   "execution_count": 43,
   "metadata": {
    "id": "gFkv0yJEGhue"
   },
   "outputs": [
    {
     "name": "stdout",
     "output_type": "stream",
     "text": [
      "round  2, metrics=OrderedDict([('broadcast', ()), ('aggregation', OrderedDict([('value_sum_process', ()), ('weight_sum_process', ())])), ('train', OrderedDict([('num_examples', 15050.0), ('loss', 2.955605), ('accuracy', 0.14066446)]))])\n",
      "round  3, metrics=OrderedDict([('broadcast', ()), ('aggregation', OrderedDict([('value_sum_process', ()), ('weight_sum_process', ())])), ('train', OrderedDict([('num_examples', 15050.0), ('loss', 2.8744311), ('accuracy', 0.1433887)]))])\n",
      "round  4, metrics=OrderedDict([('broadcast', ()), ('aggregation', OrderedDict([('value_sum_process', ()), ('weight_sum_process', ())])), ('train', OrderedDict([('num_examples', 15050.0), ('loss', 2.7130654), ('accuracy', 0.16990033)]))])\n",
      "round  5, metrics=OrderedDict([('broadcast', ()), ('aggregation', OrderedDict([('value_sum_process', ()), ('weight_sum_process', ())])), ('train', OrderedDict([('num_examples', 15050.0), ('loss', 2.6111574), ('accuracy', 0.18784054)]))])\n",
      "round  6, metrics=OrderedDict([('broadcast', ()), ('aggregation', OrderedDict([('value_sum_process', ()), ('weight_sum_process', ())])), ('train', OrderedDict([('num_examples', 15050.0), ('loss', 2.4945986), ('accuracy', 0.22418605)]))])\n",
      "round  7, metrics=OrderedDict([('broadcast', ()), ('aggregation', OrderedDict([('value_sum_process', ()), ('weight_sum_process', ())])), ('train', OrderedDict([('num_examples', 15050.0), ('loss', 2.4555492), ('accuracy', 0.23654485)]))])\n",
      "round  8, metrics=OrderedDict([('broadcast', ()), ('aggregation', OrderedDict([('value_sum_process', ()), ('weight_sum_process', ())])), ('train', OrderedDict([('num_examples', 15050.0), ('loss', 2.3105385), ('accuracy', 0.26770765)]))])\n",
      "round  9, metrics=OrderedDict([('broadcast', ()), ('aggregation', OrderedDict([('value_sum_process', ()), ('weight_sum_process', ())])), ('train', OrderedDict([('num_examples', 15050.0), ('loss', 2.2367501), ('accuracy', 0.28079733)]))])\n",
      "round 10, metrics=OrderedDict([('broadcast', ()), ('aggregation', OrderedDict([('value_sum_process', ()), ('weight_sum_process', ())])), ('train', OrderedDict([('num_examples', 15050.0), ('loss', 2.1463075), ('accuracy', 0.3070432)]))])\n"
     ]
    }
   ],
   "source": [
    "for round_num in range(2, 11):\n",
    "  state, metrics = iterative_process.next(state, federated_train_data)\n",
    "  print('round {:2d}, metrics={}'.format(round_num, metrics))"
   ]
  },
  {
   "cell_type": "markdown",
   "metadata": {
    "id": "Iswqa2Uj7phq"
   },
   "source": [
    "To see these metrics within TensorBoard, refer to the steps listed above in \"Displaying model metrics in TensorBoard\"."
   ]
  },
  {
   "cell_type": "markdown",
   "metadata": {
    "id": "m7lz59lMJ0kj"
   },
   "source": [
    "## Evaluation\n",
    "\n",
    "All of our experiments so far presented only federated training metrics - the\n",
    "average metrics over all batches of data trained across all clients in the\n",
    "round. This introduces the normal concerns about overfitting, especially since\n",
    "we used the same set of clients on each round for simplicity, but there is an\n",
    "additional notion of overfitting in training metrics specific to the Federated\n",
    "Averaging algorithm. This is easiest to see if we imagine each client had a\n",
    "single batch of data, and we train on that batch for many iterations (epochs).\n",
    "In this case, the local model will quickly exactly fit to that one batch, and so\n",
    "the local accuracy metric we average will approach 1.0. Thus, these training\n",
    "metrics can be taken as a sign that training is progressing, but not much more.\n",
    "\n",
    "To perform evaluation on federated data, you can construct another *federated\n",
    "computation* designed for just this purpose, using the\n",
    "`tff.learning.build_federated_evaluation` function, and passing in your model\n",
    "constructor as an argument. Note that unlike with Federated Averaging, where\n",
    "we've used `MnistTrainableModel`, it suffices to pass the `MnistModel`.\n",
    "Evaluation doesn't perform gradient descent, and there's no need to construct\n",
    "optimizers.\n",
    "\n",
    "For experimentation and research, when a centralized test dataset is available,\n",
    "[Federated Learning for Text Generation](federated_learning_for_text_generation.ipynb)\n",
    "demonstrates another evaluation option: taking the trained weights from\n",
    "federated learning, applying them to a standard Keras model, and then simply\n",
    "calling `tf.keras.models.Model.evaluate()` on a centralized dataset."
   ]
  },
  {
   "cell_type": "code",
   "execution_count": 44,
   "metadata": {
    "id": "nRiXyqnXM2VO"
   },
   "outputs": [],
   "source": [
    "evaluation = tff.learning.build_federated_evaluation(MnistModel)"
   ]
  },
  {
   "cell_type": "markdown",
   "metadata": {
    "id": "uwfINGoNQEuV"
   },
   "source": [
    "You can inspect the abstract type signature of the evaluation function as follows."
   ]
  },
  {
   "cell_type": "code",
   "execution_count": 45,
   "metadata": {
    "id": "3q5ueoO0NDNb"
   },
   "outputs": [
    {
     "data": {
      "text/plain": [
       "'(<server_model_weights=<trainable=<float32[784,10],float32[10]>,non_trainable=<>>@SERVER,federated_dataset={<x=float32[?,784],y=int32[?,1]>*}@CLIENTS> -> <num_examples=float32@SERVER,loss=float32@SERVER,accuracy=float32@SERVER>)'"
      ]
     },
     "execution_count": 45,
     "metadata": {},
     "output_type": "execute_result"
    }
   ],
   "source": [
    "str(evaluation.type_signature)"
   ]
  },
  {
   "cell_type": "markdown",
   "metadata": {
    "id": "XA3v7f2SQs6q"
   },
   "source": [
    "No need to be concerned about the details at this point, just be aware that it\n",
    "takes the following general form, similar to `tff.templates.IterativeProcess.next`\n",
    "but with two important differences. First, we are not returning server state,\n",
    "since evaluation doesn't modify the model or any other aspect of state - you can\n",
    "think of it as stateless. Second, evaluation only needs the model, and doesn't\n",
    "require any other part of server state that might be associated with training,\n",
    "such as optimizer variables.\n",
    "\n",
    "```\n",
    "SERVER_MODEL, FEDERATED_DATA -> TRAINING_METRICS\n",
    "```\n",
    "\n",
    "Let's invoke evaluation on the latest state we arrived at during training. In\n",
    "order to extract the latest trained model from the server state, you simply\n",
    "access the `.model` member, as follows."
   ]
  },
  {
   "cell_type": "code",
   "execution_count": 46,
   "metadata": {
    "id": "OX4Sk_uyOaYa"
   },
   "outputs": [],
   "source": [
    "train_metrics = evaluation(state.model, federated_train_data)"
   ]
  },
  {
   "cell_type": "markdown",
   "metadata": {
    "id": "UeEsdwJgRGMW"
   },
   "source": [
    "Here's what we get. Note the numbers look marginally better than what was\n",
    "reported by the last round of training above. By convention, the training\n",
    "metrics reported by the iterative training process generally reflect the\n",
    "performance of the model at the beginning of the training round, so the\n",
    "evaluation metrics will always be one step ahead."
   ]
  },
  {
   "cell_type": "code",
   "execution_count": 47,
   "metadata": {
    "id": "zwCy1IPxOfiT"
   },
   "outputs": [
    {
     "data": {
      "text/plain": [
       "\"OrderedDict([('num_examples', 15050.0), ('loss', 1.5575413), ('accuracy', 0.64152825)])\""
      ]
     },
     "execution_count": 47,
     "metadata": {},
     "output_type": "execute_result"
    }
   ],
   "source": [
    "str(train_metrics)"
   ]
  },
  {
   "cell_type": "markdown",
   "metadata": {
    "id": "SpfgdNDoRjPy"
   },
   "source": [
    "Now, let's compile a test sample of federated data and rerun evaluation on the\n",
    "test data. The data will come from the same sample of real users, but from a\n",
    "distinct held-out data set."
   ]
  },
  {
   "cell_type": "code",
   "execution_count": 48,
   "metadata": {
    "id": "in8vProVNc04"
   },
   "outputs": [
    {
     "data": {
      "text/plain": [
       "(30,\n",
       " <PrefetchDataset shapes: OrderedDict([(x, (None, 784)), (y, (None, 1))]), types: OrderedDict([(x, tf.float32), (y, tf.int32)])>)"
      ]
     },
     "execution_count": 48,
     "metadata": {},
     "output_type": "execute_result"
    }
   ],
   "source": [
    "federated_test_data = make_federated_data(emnist_test, sample_clients)\n",
    "\n",
    "len(federated_test_data), federated_test_data[0]"
   ]
  },
  {
   "cell_type": "code",
   "execution_count": 49,
   "metadata": {
    "id": "ty-ZwfE0NJfV"
   },
   "outputs": [],
   "source": [
    "test_metrics = evaluation(state.model, federated_test_data)"
   ]
  },
  {
   "cell_type": "code",
   "execution_count": 50,
   "metadata": {
    "id": "e5fGtIJYNqYH"
   },
   "outputs": [
    {
     "data": {
      "text/plain": [
       "\"OrderedDict([('num_examples', 1825.0), ('loss', 1.60109), ('accuracy', 0.5972603)])\""
      ]
     },
     "execution_count": 50,
     "metadata": {},
     "output_type": "execute_result"
    }
   ],
   "source": [
    "str(test_metrics)"
   ]
  },
  {
   "cell_type": "markdown",
   "metadata": {
    "id": "67vYxrDWzRcj"
   },
   "source": [
    "This concludes the tutorial. We encourage you to play with the\n",
    "parameters (e.g., batch sizes, number of users, epochs, learning rates, etc.), to modify the code above to simulate training on random samples of users in\n",
    "each round, and to explore the other tutorials we've developed."
   ]
  },
  {
   "cell_type": "markdown",
   "metadata": {
    "id": "bjud-3s9ePB3"
   },
   "source": [
    "**A Comparison to the old fashion method**\n",
    "In this section we are going to make a simple nn (with exactly the same architecture and hyperparameters) and train as all data is available(centralized learning)"
   ]
  },
  {
   "cell_type": "markdown",
   "metadata": {
    "id": "0Oe3IrW3bjsv"
   },
   "source": [
    "Let's compare accuracy to a simple nn with a central learning"
   ]
  },
  {
   "cell_type": "code",
   "execution_count": 133,
   "metadata": {},
   "outputs": [],
   "source": [
    "def preprocess_no_repeat(dataset):\n",
    "\n",
    "  def batch_format_fn(element):\n",
    "    \"\"\"Flatten a batch `pixels` and return the features as an `OrderedDict`.\"\"\"\n",
    "    return collections.OrderedDict(\n",
    "        x=tf.reshape(element['pixels'], [-1, 28*28]),\n",
    "        y=tf.reshape(element['label'], [-1, 1]))\n",
    "\n",
    "  return dataset.shuffle(SHUFFLE_BUFFER).batch(\n",
    "      BATCH_SIZE).map(batch_format_fn).prefetch(PREFETCH_BUFFER)\n",
    "\n",
    "def make_federated_data_no_repeat(client_data, client_ids):\n",
    "  return [\n",
    "      preprocess_no_repeat(client_data.create_tf_dataset_for_client(x))\n",
    "      for x in client_ids\n",
    "  ]\n"
   ]
  },
  {
   "cell_type": "code",
   "execution_count": 134,
   "metadata": {
    "id": "V12toAmbd1cA"
   },
   "outputs": [],
   "source": [
    "full_federated_train_data = make_federated_data_no_repeat(emnist_train, give_sample_cilents(NUM_CLIENTS))\n",
    "full_federated_test_data = make_federated_data_no_repeat(emnist_test, give_sample_cilents(NUM_CLIENTS))"
   ]
  },
  {
   "cell_type": "code",
   "execution_count": 140,
   "metadata": {
    "id": "KRHC8W0_fTFJ"
   },
   "outputs": [
    {
     "name": "stdout",
     "output_type": "stream",
     "text": [
      "10/30\n",
      "20/30\n",
      "30/30\n"
     ]
    }
   ],
   "source": [
    "try:\n",
    "    del train_images, train_labels\n",
    "except:\n",
    "    pass\n",
    "i=1\n",
    "f=0\n",
    "for cl_data in full_federated_train_data:\n",
    "    \n",
    "    for data in cl_data:\n",
    "        try:\n",
    "          train_labels = np.append(train_labels, data['y'], axis=0)\n",
    "          train_images = np.append(train_images, data['x'], axis=0)\n",
    "\n",
    "        except:\n",
    "          train_labels = np.array(data['y'])\n",
    "          train_images = np.array(data['x'])\n",
    "\n",
    "    if i%10==0:\n",
    "        print(\"{}/{}\".format(i,len(full_federated_train_data)))\n",
    "    i=i+1"
   ]
  },
  {
   "cell_type": "code",
   "execution_count": 141,
   "metadata": {
    "id": "IfhcTGw7E7Kf"
   },
   "outputs": [
    {
     "name": "stdout",
     "output_type": "stream",
     "text": [
      "(3157, 1)\n",
      "3157\n"
     ]
    }
   ],
   "source": [
    "print(train_labels.shape)\n",
    "print(len(train_images))"
   ]
  },
  {
   "cell_type": "code",
   "execution_count": 142,
   "metadata": {
    "id": "jjpSlIMiqPNn"
   },
   "outputs": [],
   "source": [
    "d=next(iter(full_federated_test_data[0]))\n",
    "#train_labels = np.array(data['y'])\n",
    "#train_labels = np.append(train_labels, data['y'],axis=0)"
   ]
  },
  {
   "cell_type": "code",
   "execution_count": 143,
   "metadata": {
    "id": "gA1P9yzJhX2k"
   },
   "outputs": [
    {
     "name": "stdout",
     "output_type": "stream",
     "text": [
      "10/30\n",
      "20/30\n",
      "30/30\n"
     ]
    }
   ],
   "source": [
    "f=1\n",
    "i=1\n",
    "try:\n",
    "    del test_labels, test_images\n",
    "\n",
    "for cl_data in full_federated_test_data:\n",
    "  for data in cl_data:\n",
    "    if(f):\n",
    "      test_labels = np.array(data['y'])\n",
    "      test_images = np.array(data['x'])\n",
    "      f=0\n",
    "    else:  \n",
    "      test_labels= np.append(test_labels, data['y'].numpy(), axis=0)\n",
    "      test_images= np.append(test_images, data['x'].numpy(), axis=0)\n",
    "   \n",
    "  if(i%10==0):\n",
    "    print(\"{}/{}\".format(i,len(full_federated_test_data)))\n",
    "  i=i+1"
   ]
  },
  {
   "cell_type": "code",
   "execution_count": 144,
   "metadata": {
    "id": "Lhan11blCaW7"
   },
   "outputs": [],
   "source": [
    "centralized_model = create_keras_model()\n",
    "\n",
    "centralized_model.compile(optimizer='adam',\n",
    "              loss=tf.keras.losses.SparseCategoricalCrossentropy(from_logits=False),\n",
    "              metrics=[tf.keras.metrics.SparseCategoricalAccuracy()])\n",
    "\n",
    "#!rm -rf ./logs/\n",
    "log_dir2 = \"logs/fit/\" + datetime.datetime.now().strftime(\"%Y%m%d-%H%M%S\")\n",
    "tensorboard_callback = tf.keras.callbacks.TensorBoard(log_dir=log_dir2, histogram_freq=1)\n"
   ]
  },
  {
   "cell_type": "code",
   "execution_count": 145,
   "metadata": {
    "id": "8c_DpR0CkB5c"
   },
   "outputs": [
    {
     "name": "stdout",
     "output_type": "stream",
     "text": [
      "Epoch 1/20\n",
      " 2/99 [..............................] - ETA: 15s - loss: 2.4522 - sparse_categorical_accuracy: 0.0625WARNING:tensorflow:Callbacks method `on_train_batch_begin` is slow compared to the batch time (batch time: 0.0020s vs `on_train_batch_begin` time: 0.0120s). Check your callbacks.\n"
     ]
    },
    {
     "name": "stderr",
     "output_type": "stream",
     "text": [
      "WARNING:tensorflow:Callbacks method `on_train_batch_begin` is slow compared to the batch time (batch time: 0.0020s vs `on_train_batch_begin` time: 0.0120s). Check your callbacks.\n"
     ]
    },
    {
     "name": "stdout",
     "output_type": "stream",
     "text": [
      "WARNING:tensorflow:Callbacks method `on_train_batch_end` is slow compared to the batch time (batch time: 0.0020s vs `on_train_batch_end` time: 0.3052s). Check your callbacks.\n"
     ]
    },
    {
     "name": "stderr",
     "output_type": "stream",
     "text": [
      "WARNING:tensorflow:Callbacks method `on_train_batch_end` is slow compared to the batch time (batch time: 0.0020s vs `on_train_batch_end` time: 0.3052s). Check your callbacks.\n"
     ]
    },
    {
     "name": "stdout",
     "output_type": "stream",
     "text": [
      "99/99 [==============================] - 0s 4ms/step - loss: 2.2213 - sparse_categorical_accuracy: 0.1973\n",
      "Epoch 2/20\n",
      "99/99 [==============================] - 0s 1ms/step - loss: 1.9198 - sparse_categorical_accuracy: 0.4203\n",
      "Epoch 3/20\n",
      "99/99 [==============================] - 0s 1ms/step - loss: 1.7004 - sparse_categorical_accuracy: 0.5258\n",
      "Epoch 4/20\n",
      "99/99 [==============================] - 0s 1ms/step - loss: 1.5228 - sparse_categorical_accuracy: 0.6094\n",
      "Epoch 5/20\n",
      "99/99 [==============================] - 0s 1ms/step - loss: 1.3706 - sparse_categorical_accuracy: 0.6734\n",
      "Epoch 6/20\n",
      "99/99 [==============================] - 0s 1ms/step - loss: 1.2602 - sparse_categorical_accuracy: 0.6959\n",
      "Epoch 7/20\n",
      "99/99 [==============================] - 0s 1ms/step - loss: 1.1628 - sparse_categorical_accuracy: 0.7285\n",
      "Epoch 8/20\n",
      "99/99 [==============================] - 0s 1ms/step - loss: 1.0921 - sparse_categorical_accuracy: 0.7460\n",
      "Epoch 9/20\n",
      "99/99 [==============================] - 0s 1ms/step - loss: 1.0405 - sparse_categorical_accuracy: 0.7422\n",
      "Epoch 10/20\n",
      "99/99 [==============================] - 0s 1ms/step - loss: 0.9823 - sparse_categorical_accuracy: 0.7602\n",
      "Epoch 11/20\n",
      "99/99 [==============================] - 0s 2ms/step - loss: 0.9342 - sparse_categorical_accuracy: 0.7745\n",
      "Epoch 12/20\n",
      "99/99 [==============================] - 0s 2ms/step - loss: 0.8890 - sparse_categorical_accuracy: 0.7862\n",
      "Epoch 13/20\n",
      "99/99 [==============================] - 0s 1ms/step - loss: 0.8621 - sparse_categorical_accuracy: 0.7843\n",
      "Epoch 14/20\n",
      "99/99 [==============================] - 0s 1ms/step - loss: 0.8319 - sparse_categorical_accuracy: 0.7846\n",
      "Epoch 15/20\n",
      "99/99 [==============================] - 0s 1ms/step - loss: 0.8074 - sparse_categorical_accuracy: 0.7935\n",
      "Epoch 16/20\n",
      "99/99 [==============================] - 0s 1ms/step - loss: 0.7927 - sparse_categorical_accuracy: 0.7989\n",
      "Epoch 17/20\n",
      "99/99 [==============================] - 0s 1ms/step - loss: 0.7457 - sparse_categorical_accuracy: 0.8156\n",
      "Epoch 18/20\n",
      "99/99 [==============================] - 0s 1ms/step - loss: 0.7486 - sparse_categorical_accuracy: 0.8074\n",
      "Epoch 19/20\n",
      "99/99 [==============================] - 0s 1ms/step - loss: 0.7182 - sparse_categorical_accuracy: 0.8134\n",
      "Epoch 20/20\n",
      "99/99 [==============================] - 0s 1ms/step - loss: 0.7051 - sparse_categorical_accuracy: 0.8172\n"
     ]
    }
   ],
   "source": [
    "res=centralized_model.fit(train_images, train_labels, epochs=NUM_ROUNDS, shuffle=True, callbacks=[tensorboard_callback])"
   ]
  },
  {
   "cell_type": "code",
   "execution_count": 146,
   "metadata": {
    "id": "2-TeU8EvdKFF"
   },
   "outputs": [
    {
     "name": "stdout",
     "output_type": "stream",
     "text": [
      "57/57 - 0s - loss: 0.7936 - sparse_categorical_accuracy: 0.7912\n"
     ]
    }
   ],
   "source": [
    "\n",
    "test_results_normal = centralized_model.evaluate(test_images,  test_labels, verbose=2)\n"
   ]
  },
  {
   "cell_type": "code",
   "execution_count": 147,
   "metadata": {
    "id": "lbnXLtZ5i2Rf"
   },
   "outputs": [
    {
     "data": {
      "text/plain": [
       "Reusing TensorBoard on port 6006 (pid 16772), started 1:04:49 ago. (Use '!kill 16772' to kill it.)"
      ]
     },
     "metadata": {},
     "output_type": "display_data"
    },
    {
     "data": {
      "text/html": [
       "\n",
       "      <iframe id=\"tensorboard-frame-d045d9c91bd756ab\" width=\"100%\" height=\"800\" frameborder=\"0\">\n",
       "      </iframe>\n",
       "      <script>\n",
       "        (function() {\n",
       "          const frame = document.getElementById(\"tensorboard-frame-d045d9c91bd756ab\");\n",
       "          const url = new URL(\"/\", window.location);\n",
       "          const port = 6006;\n",
       "          if (port) {\n",
       "            url.port = port;\n",
       "          }\n",
       "          frame.src = url;\n",
       "        })();\n",
       "      </script>\n",
       "    "
      ],
      "text/plain": [
       "<IPython.core.display.HTML object>"
      ]
     },
     "metadata": {},
     "output_type": "display_data"
    }
   ],
   "source": [
    "%tensorboard --logdir logs/fit"
   ]
  },
  {
   "cell_type": "code",
   "execution_count": 148,
   "metadata": {
    "id": "fyDGl0Uceh09"
   },
   "outputs": [],
   "source": [
    "federated_loss_train = [ x['train']['loss'] for x in fed_train_results]\n",
    "federated_loss_train.append(federated_loss_train[-1])  # to be same size\n",
    "federated_loss_test = [ x['loss'] for x in fed_test_results]\n",
    "federated_accuracy_train = [ x['train']['sparse_categorical_accuracy'] for x in fed_train_results]\n",
    "federated_accuracy_test = [ x['sparse_categorical_accuracy'] for x in fed_test_results]"
   ]
  },
  {
   "cell_type": "code",
   "execution_count": 149,
   "metadata": {
    "id": "6f_1obZjWBX-"
   },
   "outputs": [],
   "source": [
    "normal_loss=res.history['loss']\n",
    "normal_accuracy=res.history['sparse_categorical_accuracy']"
   ]
  },
  {
   "cell_type": "code",
   "execution_count": 150,
   "metadata": {
    "id": "wYjmRDl_NBVP"
   },
   "outputs": [
    {
     "name": "stdout",
     "output_type": "stream",
     "text": [
      "0.36147758\n",
      "0.24444444\n",
      "0.50274724\n",
      "0.075675674\n",
      "0.5316092\n",
      "0.42857143\n",
      "0.5540541\n",
      "0.5849057\n",
      "0.48369566\n",
      "0.6473829\n",
      "0.67403316\n",
      "0.5833333\n",
      "0.61333334\n",
      "0.6502732\n",
      "0.69945353\n",
      "0.67582417\n",
      "0.7005494\n",
      "0.71944445\n",
      "0.68767124\n"
     ]
    }
   ],
   "source": [
    "for x in fed_test_results:\n",
    "  print(x['sparse_categorical_accuracy'])\n"
   ]
  },
  {
   "cell_type": "code",
   "execution_count": 151,
   "metadata": {
    "id": "XSE7wVAP04Em"
   },
   "outputs": [
    {
     "name": "stderr",
     "output_type": "stream",
     "text": [
      "<ipython-input-151-621db1876a50>:8: MatplotlibDeprecationWarning: Case-insensitive properties were deprecated in 3.3 and support will be removed two minor releases later\n",
      "  plt.plot(federated_accuracy_train, Label=r'$Federated_{ Accuracy}$')\n",
      "<ipython-input-151-621db1876a50>:9: MatplotlibDeprecationWarning: Case-insensitive properties were deprecated in 3.3 and support will be removed two minor releases later\n",
      "  plt.plot(normal_accuracy, Label=r'$Normal_{ Accuracy}$')\n"
     ]
    },
    {
     "name": "stdout",
     "output_type": "stream",
     "text": [
      "Final Accuracy: fed=(0.6877)  VS normal=(0.7912)\n"
     ]
    },
    {
     "data": {
      "image/png": "[encoded data removed]",
      "text/plain": [
       "<Figure size 1296x360 with 2 Axes>"
      ]
     },
     "metadata": {
      "needs_background": "light"
     },
     "output_type": "display_data"
    }
   ],
   "source": [
    "figure = plt.figure(figsize=(18, 5))\n",
    "plt.subplot(1,2,1)\n",
    "plt.plot(federated_loss_train,label=r'$Federated_{ Loss}$')\n",
    "plt.plot(normal_loss,label=r'$Normal_{ Loss}$')\n",
    "plt.legend()\n",
    "plt.title(\"Loss comparison\")\n",
    "plt.subplot(1,2,2)\n",
    "plt.plot(federated_accuracy_train, Label=r'$Federated_{ Accuracy}$')\n",
    "plt.plot(normal_accuracy, Label=r'$Normal_{ Accuracy}$')\n",
    "plt.title(\"Accuracy comparison(on train data!)\")\n",
    "print(\"Final Accuracy: fed=({:.4f})  VS normal=({:.4f})\".format(federated_accuracy_test[-1],test_results_normal[1]))\n",
    "\n",
    "l=plt.legend()"
   ]
  },
  {
   "cell_type": "markdown",
   "metadata": {
    "id": "xkCnIxzDOMgz"
   },
   "source": [
    "** one sample output **\n",
    "As we have dicussed above we could arrive to the same accuracy on test data (in comparison to centrilized training)\n",
    "but with a one **big assumptiom**:\n",
    "\n",
    "we always access specified devices and won't sample clients per itteration. if you run this notebook with code below you can see the difference.\n",
    "\n",
    "``` python\n",
    "sample_clients = give_sample_cilents(NUM_CLIENTS)\n",
    "```\n",
    "if we do not sample evey time we will have these results:\n",
    "\n",
    "Final Accuracy: fed=(0.7895)  VS normal=(0.7304)\n",
    "\n",
    "![download.png](data:image/png;base64,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)"
   ]
  },
  {
   "cell_type": "markdown",
   "metadata": {
    "id": "jpoAccDpQHGV"
   },
   "source": [
    "so what should we do?\n",
    "\n",
    "I think our scaling and iterations used in this notebook are quiet low. if we increase these parameters, we will have much better results.(with the cost of high computation.....)\n",
    "we should consider a note. We are trying to simluate a task which is done by collaborative work of thousands nodes(or even millions!) so, I guess we must expect this simulation to be at a high-computational-cost level especially due to lack of gpu accelerated availability in TFF. (4 January 2021)\n"
   ]
  },
  {
   "cell_type": "markdown",
   "metadata": {
    "id": "tulQB6GRQGQo"
   },
   "source": [
    "# A test"
   ]
  },
  {
   "cell_type": "code",
   "execution_count": 105,
   "metadata": {},
   "outputs": [],
   "source": [
    "from scipy import io as spio\n",
    "emnist = spio.loadmat(\"D:\\\\db\\\\emnist-digits.mat\")"
   ]
  },
  {
   "cell_type": "code",
   "execution_count": 114,
   "metadata": {},
   "outputs": [],
   "source": [
    "x_train = emnist[\"dataset\"][0][0][0][0][0][0]\n",
    "x_train = x_train.astype(np.float32)\n",
    "\n",
    "# load training labels\n",
    "y_train = emnist[\"dataset\"][0][0][0][0][0][1]\n",
    "\n",
    "# load test dataset\n",
    "x_test = emnist[\"dataset\"][0][0][1][0][0][0]\n",
    "x_test = x_test.astype(np.float32)\n",
    "\n",
    "# load test labels\n",
    "y_test = emnist[\"dataset\"][0][0][1][0][0][1]\n",
    "\n",
    "# normalize\n",
    "x_train = x_train/ 255\n",
    "x_test = x_test / 255"
   ]
  },
  {
   "cell_type": "code",
   "execution_count": 117,
   "metadata": {},
   "outputs": [
    {
     "data": {
      "text/plain": [
       "(784,)"
      ]
     },
     "execution_count": 117,
     "metadata": {},
     "output_type": "execute_result"
    }
   ],
   "source": [
    "x_train[0].shape"
   ]
  },
  {
   "cell_type": "code",
   "execution_count": 124,
   "metadata": {},
   "outputs": [
    {
     "name": "stdout",
     "output_type": "stream",
     "text": [
      "[9]\n"
     ]
    },
    {
     "data": {
      "image/png": "[encoded data removed]",
      "text/plain": [
       "<Figure size 432x288 with 1 Axes>"
      ]
     },
     "metadata": {
      "needs_background": "light"
     },
     "output_type": "display_data"
    }
   ],
   "source": [
    "plt.imshow(np.reshape(x_train[1],[28,28]))\n",
    "print(y_train[1])"
   ]
  },
  {
   "cell_type": "code",
   "execution_count": 70,
   "metadata": {},
   "outputs": [],
   "source": [
    "centralized_model2 = create_keras_model()\n",
    "\n",
    "centralized_model2.compile(optimizer='adam',\n",
    "              loss=tf.keras.losses.SparseCategoricalCrossentropy(from_logits=False),\n",
    "              metrics=[tf.keras.metrics.SparseCategoricalAccuracy()])\n",
    "\n",
    "#!rm -rf ./logs/\n",
    "log_dir2 = \"logs/fit/\" + datetime.datetime.now().strftime(\"%Y%m%d-%H%M%S\")\n",
    "tensorboard_callback = tf.keras.callbacks.TensorBoard(log_dir=log_dir2, histogram_freq=1)\n"
   ]
  },
  {
   "cell_type": "code",
   "execution_count": 129,
   "metadata": {},
   "outputs": [
    {
     "name": "stdout",
     "output_type": "stream",
     "text": [
      "Epoch 1/20\n",
      "   2/7500 [..............................] - ETA: 17:26 - loss: 25.8736 - sparse_categorical_accuracy: 0.1406WARNING:tensorflow:Callbacks method `on_train_batch_begin` is slow compared to the batch time (batch time: 0.0030s vs `on_train_batch_begin` time: 0.0110s). Check your callbacks.\n"
     ]
    },
    {
     "name": "stderr",
     "output_type": "stream",
     "text": [
      "WARNING:tensorflow:Callbacks method `on_train_batch_begin` is slow compared to the batch time (batch time: 0.0030s vs `on_train_batch_begin` time: 0.0110s). Check your callbacks.\n"
     ]
    },
    {
     "name": "stdout",
     "output_type": "stream",
     "text": [
      "WARNING:tensorflow:Callbacks method `on_train_batch_end` is slow compared to the batch time (batch time: 0.0030s vs `on_train_batch_end` time: 0.2643s). Check your callbacks.\n"
     ]
    },
    {
     "name": "stderr",
     "output_type": "stream",
     "text": [
      "WARNING:tensorflow:Callbacks method `on_train_batch_end` is slow compared to the batch time (batch time: 0.0030s vs `on_train_batch_end` time: 0.2643s). Check your callbacks.\n"
     ]
    },
    {
     "name": "stdout",
     "output_type": "stream",
     "text": [
      "7500/7500 [==============================] - 11s 1ms/step - loss: 1.1865 - sparse_categorical_accuracy: 0.8295 - val_loss: 0.3441 - val_sparse_categorical_accuracy: 0.9203\n",
      "Epoch 2/20\n",
      "7500/7500 [==============================] - 11s 1ms/step - loss: 0.2904 - sparse_categorical_accuracy: 0.9287 - val_loss: 0.2611 - val_sparse_categorical_accuracy: 0.9325\n",
      "Epoch 3/20\n",
      "7500/7500 [==============================] - 11s 2ms/step - loss: 0.2479 - sparse_categorical_accuracy: 0.9361 - val_loss: 0.2370 - val_sparse_categorical_accuracy: 0.9377\n",
      "Epoch 4/20\n",
      "7500/7500 [==============================] - 11s 2ms/step - loss: 0.2352 - sparse_categorical_accuracy: 0.9387 - val_loss: 0.2332 - val_sparse_categorical_accuracy: 0.9380\n",
      "Epoch 5/20\n",
      "7500/7500 [==============================] - 11s 1ms/step - loss: 0.2289 - sparse_categorical_accuracy: 0.9400 - val_loss: 0.2262 - val_sparse_categorical_accuracy: 0.9401\n",
      "Epoch 6/20\n",
      "7500/7500 [==============================] - 11s 1ms/step - loss: 0.2253 - sparse_categorical_accuracy: 0.9406 - val_loss: 0.2256 - val_sparse_categorical_accuracy: 0.9400\n",
      "Epoch 7/20\n",
      "7500/7500 [==============================] - 11s 1ms/step - loss: 0.2228 - sparse_categorical_accuracy: 0.9414 - val_loss: 0.2216 - val_sparse_categorical_accuracy: 0.9409\n",
      "Epoch 8/20\n",
      "7500/7500 [==============================] - 12s 2ms/step - loss: 0.2208 - sparse_categorical_accuracy: 0.9420 - val_loss: 0.2200 - val_sparse_categorical_accuracy: 0.9409\n",
      "Epoch 9/20\n",
      "7500/7500 [==============================] - 12s 2ms/step - loss: 0.2197 - sparse_categorical_accuracy: 0.9418 - val_loss: 0.2186 - val_sparse_categorical_accuracy: 0.9413\n",
      "Epoch 10/20\n",
      "7500/7500 [==============================] - 12s 2ms/step - loss: 0.2190 - sparse_categorical_accuracy: 0.9421 - val_loss: 0.2207 - val_sparse_categorical_accuracy: 0.9411\n",
      "Epoch 11/20\n",
      "7500/7500 [==============================] - 11s 2ms/step - loss: 0.2177 - sparse_categorical_accuracy: 0.9425 - val_loss: 0.2205 - val_sparse_categorical_accuracy: 0.9408\n",
      "Epoch 12/20\n",
      "7500/7500 [==============================] - 11s 2ms/step - loss: 0.2172 - sparse_categorical_accuracy: 0.9422 - val_loss: 0.2183 - val_sparse_categorical_accuracy: 0.9422\n",
      "Epoch 13/20\n",
      "7500/7500 [==============================] - 11s 2ms/step - loss: 0.2168 - sparse_categorical_accuracy: 0.9427 - val_loss: 0.2188 - val_sparse_categorical_accuracy: 0.9416\n",
      "Epoch 14/20\n",
      "7500/7500 [==============================] - 11s 2ms/step - loss: 0.2165 - sparse_categorical_accuracy: 0.9423 - val_loss: 0.2183 - val_sparse_categorical_accuracy: 0.9416\n",
      "Epoch 15/20\n",
      "7500/7500 [==============================] - 11s 2ms/step - loss: 0.2159 - sparse_categorical_accuracy: 0.9425 - val_loss: 0.2186 - val_sparse_categorical_accuracy: 0.9413\n",
      "Epoch 16/20\n",
      "7500/7500 [==============================] - 11s 2ms/step - loss: 0.2158 - sparse_categorical_accuracy: 0.9429 - val_loss: 0.2180 - val_sparse_categorical_accuracy: 0.9416\n",
      "Epoch 17/20\n",
      "7500/7500 [==============================] - 11s 1ms/step - loss: 0.2153 - sparse_categorical_accuracy: 0.9426 - val_loss: 0.2189 - val_sparse_categorical_accuracy: 0.9408\n",
      "Epoch 18/20\n",
      "7500/7500 [==============================] - 11s 2ms/step - loss: 0.2149 - sparse_categorical_accuracy: 0.9434 - val_loss: 0.2194 - val_sparse_categorical_accuracy: 0.9406\n",
      "Epoch 19/20\n",
      "7500/7500 [==============================] - 12s 2ms/step - loss: 0.2147 - sparse_categorical_accuracy: 0.9426 - val_loss: 0.2195 - val_sparse_categorical_accuracy: 0.9406\n",
      "Epoch 20/20\n",
      "7500/7500 [==============================] - 11s 2ms/step - loss: 0.2148 - sparse_categorical_accuracy: 0.9427 - val_loss: 0.2191 - val_sparse_categorical_accuracy: 0.9416\n"
     ]
    }
   ],
   "source": [
    "res2=centralized_model.fit(x_train, y_train, epochs=NUM_ROUNDS, shuffle=True, callbacks=[tensorboard_callback], validation_data=(x_test, y_test))"
   ]
  },
  {
   "cell_type": "code",
   "execution_count": 130,
   "metadata": {},
   "outputs": [],
   "source": [
    "normal_loss2=res2.history['loss']\n",
    "normal_accuracy2=res2.history['sparse_categorical_accuracy']"
   ]
  },
  {
   "cell_type": "code",
   "execution_count": 131,
   "metadata": {},
   "outputs": [
    {
     "name": "stderr",
     "output_type": "stream",
     "text": [
      "<ipython-input-131-22ba1a0a2359>:1: MatplotlibDeprecationWarning: Case-insensitive properties were deprecated in 3.3 and support will be removed two minor releases later\n",
      "  plt.plot(normal_loss2, Label=\"emnist\")\n",
      "<ipython-input-131-22ba1a0a2359>:2: MatplotlibDeprecationWarning: Case-insensitive properties were deprecated in 3.3 and support will be removed two minor releases later\n",
      "  plt.plot(normal_loss, Label=\"cumulated orginal emnist\")\n"
     ]
    },
    {
     "data": {
      "text/plain": [
       "<matplotlib.legend.Legend at 0x2d80b6aa400>"
      ]
     },
     "execution_count": 131,
     "metadata": {},
     "output_type": "execute_result"
    },
    {
     "data": {
      "image/png": "[encoded data removed]",
      "text/plain": [
       "<Figure size 432x288 with 1 Axes>"
      ]
     },
     "metadata": {
      "needs_background": "light"
     },
     "output_type": "display_data"
    }
   ],
   "source": [
    "plt.plot(normal_loss2, Label=\"emnist\")\n",
    "plt.plot(normal_loss, Label=\"cumulated orginal emnist\")\n",
    "plt.legend()"
   ]
  },
  {
   "cell_type": "code",
   "execution_count": 132,
   "metadata": {},
   "outputs": [
    {
     "name": "stderr",
     "output_type": "stream",
     "text": [
      "<ipython-input-132-ba82fd728069>:1: MatplotlibDeprecationWarning: Case-insensitive properties were deprecated in 3.3 and support will be removed two minor releases later\n",
      "  plt.plot(normal_accuracy2, Label=\"emnist\")\n",
      "<ipython-input-132-ba82fd728069>:2: MatplotlibDeprecationWarning: Case-insensitive properties were deprecated in 3.3 and support will be removed two minor releases later\n",
      "  plt.plot(normal_accuracy, Label=\"cumulated orginal emnist\")\n"
     ]
    },
    {
     "data": {
      "text/plain": [
       "<matplotlib.legend.Legend at 0x2d80b8a95e0>"
      ]
     },
     "execution_count": 132,
     "metadata": {},
     "output_type": "execute_result"
    },
    {
     "data": {
      "image/png": "[encoded data removed]",
      "text/plain": [
       "<Figure size 432x288 with 1 Axes>"
      ]
     },
     "metadata": {
      "needs_background": "light"
     },
     "output_type": "display_data"
    }
   ],
   "source": [
    "plt.plot(normal_accuracy2, Label=\"emnist\")\n",
    "plt.plot(normal_accuracy, Label=\"cumulated orginal emnist\")\n",
    "plt.legend()"
   ]
  },
  {
   "cell_type": "code",
   "execution_count": null,
   "metadata": {},
   "outputs": [],
   "source": []
  }
 ],
 "metadata": {
  "accelerator": "GPU",
  "colab": {
   "collapsed_sections": [
    "70wTs3kfCGF4",
    "MHuquagECGF4",
    "cKuQ8595CGF5",
    "HHzMOe14CGF7",
    "hHVKvE9ACGF7",
    "NMgaDtHKCGF8",
    "2-TI3FGaCGF9"
   ],
   "name": "A_Tutorial_on_FL_API_ V1.2.ipynb",
   "provenance": [],
   "toc_visible": true
  },
  "kernelspec": {
   "display_name": "fed_gpu",
   "language": "python",
   "name": "fed_gpu"
  },
  "language_info": {
   "codemirror_mode": {
    "name": "ipython",
    "version": 3
   },
   "file_extension": ".py",
   "mimetype": "text/x-python",
   "name": "python",
   "nbconvert_exporter": "python",
   "pygments_lexer": "ipython3",
   "version": "3.8.5"
  }
 },
 "nbformat": 4,
 "nbformat_minor": 1
}
